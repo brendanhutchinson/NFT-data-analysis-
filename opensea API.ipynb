{
 "cells": [
  {
   "cell_type": "code",
   "execution_count": null,
   "id": "57f388d1",
   "metadata": {},
   "outputs": [],
   "source": [
    "import json\n",
    "import pandas as pd "
   ]
  },
  {
   "cell_type": "code",
   "execution_count": 12,
   "id": "b11b8760",
   "metadata": {},
   "outputs": [],
   "source": [
    "names = ['sandbox','cryptopunks','boredapeyachtclub','decentraland','art-blocks']\n"
   ]
  },
  {
   "cell_type": "code",
   "execution_count": 9,
   "id": "03686a61",
   "metadata": {},
   "outputs": [],
   "source": [
    "import selenium\n",
    "\n",
    "\n",
    "from selenium import webdriver\n",
    "\n",
    "import time"
   ]
  },
  {
   "cell_type": "code",
   "execution_count": 21,
   "id": "1c46737b",
   "metadata": {},
   "outputs": [],
   "source": [
    "# options = webdriver.ChromeOptions() ;\n",
    "\n",
    "# driver = webdriver.Chrome(executable_path='./C:\\\\Users\\\\brend',chrome_options=options);"
   ]
  },
  {
   "cell_type": "code",
   "execution_count": 22,
   "id": "a851e9a6",
   "metadata": {},
   "outputs": [
    {
     "data": {
      "text/plain": [
       "'C:\\\\Users\\\\brend\\\\NYCDSA\\\\Projects\\\\NFT'"
      ]
     },
     "execution_count": 22,
     "metadata": {},
     "output_type": "execute_result"
    }
   ],
   "source": [
    "driver = webdriver.Chrome(\"C:\\\\Users\\\\brend\\\\anaconda3\\\\Lib\\\\site-packages\\\\selenium\\\\webdriver\\\\chrome\\\\webdriver.py\")"
   ]
  },
  {
   "cell_type": "code",
   "execution_count": 27,
   "id": "d2860809",
   "metadata": {},
   "outputs": [
    {
     "name": "stderr",
     "output_type": "stream",
     "text": [
      "<ipython-input-27-41fff4b4cf0d>:1: DeprecationWarning: executable_path has been deprecated, please pass in a Service object\n",
      "  driver = webdriver.Chrome('C:\\\\Users\\\\brend\\\\chromedriver_mac64\\\\chromedriver')\n"
     ]
    },
    {
     "ename": "OSError",
     "evalue": "[WinError 193] %1 is not a valid Win32 application",
     "output_type": "error",
     "traceback": [
      "\u001b[1;31m---------------------------------------------------------------------------\u001b[0m",
      "\u001b[1;31mOSError\u001b[0m                                   Traceback (most recent call last)",
      "\u001b[1;32m<ipython-input-27-41fff4b4cf0d>\u001b[0m in \u001b[0;36m<module>\u001b[1;34m\u001b[0m\n\u001b[1;32m----> 1\u001b[1;33m \u001b[0mdriver\u001b[0m \u001b[1;33m=\u001b[0m \u001b[0mwebdriver\u001b[0m\u001b[1;33m.\u001b[0m\u001b[0mChrome\u001b[0m\u001b[1;33m(\u001b[0m\u001b[1;34m'C:\\\\Users\\\\brend\\\\chromedriver_mac64\\\\chromedriver'\u001b[0m\u001b[1;33m)\u001b[0m\u001b[1;33m\u001b[0m\u001b[1;33m\u001b[0m\u001b[0m\n\u001b[0m\u001b[0;32m      2\u001b[0m \u001b[0mdriver\u001b[0m\u001b[1;33m.\u001b[0m\u001b[0mget\u001b[0m\u001b[1;33m(\u001b[0m\u001b[1;34m'https://opensea.io/rankings?sortBy=total_volume'\u001b[0m\u001b[1;33m)\u001b[0m\u001b[1;33m\u001b[0m\u001b[1;33m\u001b[0m\u001b[0m\n\u001b[0;32m      3\u001b[0m \u001b[0mdriver\u001b[0m\u001b[1;33m.\u001b[0m\u001b[0mimplicitly_wait\u001b[0m\u001b[1;33m(\u001b[0m\u001b[1;36m1\u001b[0m\u001b[1;33m)\u001b[0m\u001b[1;33m\u001b[0m\u001b[1;33m\u001b[0m\u001b[0m\n\u001b[0;32m      4\u001b[0m \u001b[0marticles\u001b[0m \u001b[1;33m=\u001b[0m \u001b[0mdriver\u001b[0m\u001b[1;33m.\u001b[0m\u001b[0mfind_elements\u001b[0m\u001b[1;33m(\u001b[0m\u001b[0mBy\u001b[0m\u001b[1;33m.\u001b[0m\u001b[0mCLASS_NAME\u001b[0m\u001b[1;33m,\u001b[0m \u001b[0mvalue\u001b[0m \u001b[1;33m=\u001b[0m \u001b[1;34m'styles__StyledLink-sc-l6elh8-0'\u001b[0m\u001b[1;33m)\u001b[0m\u001b[1;33m\u001b[0m\u001b[1;33m\u001b[0m\u001b[0m\n\u001b[0;32m      5\u001b[0m \u001b[0mlst\u001b[0m \u001b[1;33m=\u001b[0m \u001b[1;33m[\u001b[0m\u001b[0mi\u001b[0m\u001b[1;33m.\u001b[0m\u001b[0mget_attribute\u001b[0m\u001b[1;33m(\u001b[0m\u001b[1;34m'href'\u001b[0m\u001b[1;33m)\u001b[0m \u001b[1;32mfor\u001b[0m \u001b[0mi\u001b[0m \u001b[1;32min\u001b[0m \u001b[0marticles\u001b[0m\u001b[1;33m]\u001b[0m\u001b[1;33m\u001b[0m\u001b[1;33m\u001b[0m\u001b[0m\n",
      "\u001b[1;32m~\\anaconda3\\lib\\site-packages\\selenium\\webdriver\\chrome\\webdriver.py\u001b[0m in \u001b[0;36m__init__\u001b[1;34m(self, executable_path, port, options, service_args, desired_capabilities, service_log_path, chrome_options, service, keep_alive)\u001b[0m\n\u001b[0;32m     68\u001b[0m             \u001b[0mservice\u001b[0m \u001b[1;33m=\u001b[0m \u001b[0mService\u001b[0m\u001b[1;33m(\u001b[0m\u001b[0mexecutable_path\u001b[0m\u001b[1;33m,\u001b[0m \u001b[0mport\u001b[0m\u001b[1;33m,\u001b[0m \u001b[0mservice_args\u001b[0m\u001b[1;33m,\u001b[0m \u001b[0mservice_log_path\u001b[0m\u001b[1;33m)\u001b[0m\u001b[1;33m\u001b[0m\u001b[1;33m\u001b[0m\u001b[0m\n\u001b[0;32m     69\u001b[0m \u001b[1;33m\u001b[0m\u001b[0m\n\u001b[1;32m---> 70\u001b[1;33m         super(WebDriver, self).__init__(DesiredCapabilities.CHROME['browserName'], \"goog\",\n\u001b[0m\u001b[0;32m     71\u001b[0m                                         \u001b[0mport\u001b[0m\u001b[1;33m,\u001b[0m \u001b[0moptions\u001b[0m\u001b[1;33m,\u001b[0m\u001b[1;33m\u001b[0m\u001b[1;33m\u001b[0m\u001b[0m\n\u001b[0;32m     72\u001b[0m                                         \u001b[0mservice_args\u001b[0m\u001b[1;33m,\u001b[0m \u001b[0mdesired_capabilities\u001b[0m\u001b[1;33m,\u001b[0m\u001b[1;33m\u001b[0m\u001b[1;33m\u001b[0m\u001b[0m\n",
      "\u001b[1;32m~\\anaconda3\\lib\\site-packages\\selenium\\webdriver\\chromium\\webdriver.py\u001b[0m in \u001b[0;36m__init__\u001b[1;34m(self, browser_name, vendor_prefix, port, options, service_args, desired_capabilities, service_log_path, service, keep_alive)\u001b[0m\n\u001b[0;32m     88\u001b[0m \u001b[1;33m\u001b[0m\u001b[0m\n\u001b[0;32m     89\u001b[0m         \u001b[0mself\u001b[0m\u001b[1;33m.\u001b[0m\u001b[0mservice\u001b[0m \u001b[1;33m=\u001b[0m \u001b[0mservice\u001b[0m\u001b[1;33m\u001b[0m\u001b[1;33m\u001b[0m\u001b[0m\n\u001b[1;32m---> 90\u001b[1;33m         \u001b[0mself\u001b[0m\u001b[1;33m.\u001b[0m\u001b[0mservice\u001b[0m\u001b[1;33m.\u001b[0m\u001b[0mstart\u001b[0m\u001b[1;33m(\u001b[0m\u001b[1;33m)\u001b[0m\u001b[1;33m\u001b[0m\u001b[1;33m\u001b[0m\u001b[0m\n\u001b[0m\u001b[0;32m     91\u001b[0m \u001b[1;33m\u001b[0m\u001b[0m\n\u001b[0;32m     92\u001b[0m         \u001b[1;32mtry\u001b[0m\u001b[1;33m:\u001b[0m\u001b[1;33m\u001b[0m\u001b[1;33m\u001b[0m\u001b[0m\n",
      "\u001b[1;32m~\\anaconda3\\lib\\site-packages\\selenium\\webdriver\\common\\service.py\u001b[0m in \u001b[0;36mstart\u001b[1;34m(self)\u001b[0m\n\u001b[0;32m     69\u001b[0m             \u001b[0mcmd\u001b[0m \u001b[1;33m=\u001b[0m \u001b[1;33m[\u001b[0m\u001b[0mself\u001b[0m\u001b[1;33m.\u001b[0m\u001b[0mpath\u001b[0m\u001b[1;33m]\u001b[0m\u001b[1;33m\u001b[0m\u001b[1;33m\u001b[0m\u001b[0m\n\u001b[0;32m     70\u001b[0m             \u001b[0mcmd\u001b[0m\u001b[1;33m.\u001b[0m\u001b[0mextend\u001b[0m\u001b[1;33m(\u001b[0m\u001b[0mself\u001b[0m\u001b[1;33m.\u001b[0m\u001b[0mcommand_line_args\u001b[0m\u001b[1;33m(\u001b[0m\u001b[1;33m)\u001b[0m\u001b[1;33m)\u001b[0m\u001b[1;33m\u001b[0m\u001b[1;33m\u001b[0m\u001b[0m\n\u001b[1;32m---> 71\u001b[1;33m             self.process = subprocess.Popen(cmd, env=self.env,\n\u001b[0m\u001b[0;32m     72\u001b[0m                                             \u001b[0mclose_fds\u001b[0m\u001b[1;33m=\u001b[0m\u001b[0msystem\u001b[0m\u001b[1;33m(\u001b[0m\u001b[1;33m)\u001b[0m \u001b[1;33m!=\u001b[0m \u001b[1;34m'Windows'\u001b[0m\u001b[1;33m,\u001b[0m\u001b[1;33m\u001b[0m\u001b[1;33m\u001b[0m\u001b[0m\n\u001b[0;32m     73\u001b[0m                                             \u001b[0mstdout\u001b[0m\u001b[1;33m=\u001b[0m\u001b[0mself\u001b[0m\u001b[1;33m.\u001b[0m\u001b[0mlog_file\u001b[0m\u001b[1;33m,\u001b[0m\u001b[1;33m\u001b[0m\u001b[1;33m\u001b[0m\u001b[0m\n",
      "\u001b[1;32m~\\anaconda3\\lib\\subprocess.py\u001b[0m in \u001b[0;36m__init__\u001b[1;34m(self, args, bufsize, executable, stdin, stdout, stderr, preexec_fn, close_fds, shell, cwd, env, universal_newlines, startupinfo, creationflags, restore_signals, start_new_session, pass_fds, encoding, errors, text)\u001b[0m\n\u001b[0;32m    856\u001b[0m                             encoding=encoding, errors=errors)\n\u001b[0;32m    857\u001b[0m \u001b[1;33m\u001b[0m\u001b[0m\n\u001b[1;32m--> 858\u001b[1;33m             self._execute_child(args, executable, preexec_fn, close_fds,\n\u001b[0m\u001b[0;32m    859\u001b[0m                                 \u001b[0mpass_fds\u001b[0m\u001b[1;33m,\u001b[0m \u001b[0mcwd\u001b[0m\u001b[1;33m,\u001b[0m \u001b[0menv\u001b[0m\u001b[1;33m,\u001b[0m\u001b[1;33m\u001b[0m\u001b[1;33m\u001b[0m\u001b[0m\n\u001b[0;32m    860\u001b[0m                                 \u001b[0mstartupinfo\u001b[0m\u001b[1;33m,\u001b[0m \u001b[0mcreationflags\u001b[0m\u001b[1;33m,\u001b[0m \u001b[0mshell\u001b[0m\u001b[1;33m,\u001b[0m\u001b[1;33m\u001b[0m\u001b[1;33m\u001b[0m\u001b[0m\n",
      "\u001b[1;32m~\\anaconda3\\lib\\subprocess.py\u001b[0m in \u001b[0;36m_execute_child\u001b[1;34m(self, args, executable, preexec_fn, close_fds, pass_fds, cwd, env, startupinfo, creationflags, shell, p2cread, p2cwrite, c2pread, c2pwrite, errread, errwrite, unused_restore_signals, unused_start_new_session)\u001b[0m\n\u001b[0;32m   1309\u001b[0m             \u001b[1;31m# Start the process\u001b[0m\u001b[1;33m\u001b[0m\u001b[1;33m\u001b[0m\u001b[1;33m\u001b[0m\u001b[0m\n\u001b[0;32m   1310\u001b[0m             \u001b[1;32mtry\u001b[0m\u001b[1;33m:\u001b[0m\u001b[1;33m\u001b[0m\u001b[1;33m\u001b[0m\u001b[0m\n\u001b[1;32m-> 1311\u001b[1;33m                 hp, ht, pid, tid = _winapi.CreateProcess(executable, args,\n\u001b[0m\u001b[0;32m   1312\u001b[0m                                          \u001b[1;31m# no special security\u001b[0m\u001b[1;33m\u001b[0m\u001b[1;33m\u001b[0m\u001b[1;33m\u001b[0m\u001b[0m\n\u001b[0;32m   1313\u001b[0m                                          \u001b[1;32mNone\u001b[0m\u001b[1;33m,\u001b[0m \u001b[1;32mNone\u001b[0m\u001b[1;33m,\u001b[0m\u001b[1;33m\u001b[0m\u001b[1;33m\u001b[0m\u001b[0m\n",
      "\u001b[1;31mOSError\u001b[0m: [WinError 193] %1 is not a valid Win32 application"
     ]
    }
   ],
   "source": [
    "driver = webdriver.Chrome('C:\\\\Users\\\\brend\\\\chromedriver_mac64\\\\chromedriver')\n",
    "driver.get('https://opensea.io/rankings?sortBy=total_volume')\n",
    "driver.implicitly_wait(1)\n",
    "lines = driver.find_elements(By.CLASS_NAME, value = 'styles__StyledLink-sc-l6elh8-0')\n",
    "url_lst = [a.get_attribute('href') for a in lines]\n",
    "for i in range(len(url_lst)):\n",
    "    print(url_lst[i])\n",
    "print(driver.title)\n",
    "driver.quit()"
   ]
  },
  {
   "cell_type": "code",
   "execution_count": 67,
   "id": "447e2de6",
   "metadata": {},
   "outputs": [
    {
     "ename": "Exception",
     "evalue": "The status code is not 200! It is 403.",
     "output_type": "error",
     "traceback": [
      "\u001b[1;31m---------------------------------------------------------------------------\u001b[0m",
      "\u001b[1;31mException\u001b[0m                                 Traceback (most recent call last)",
      "\u001b[1;32m<ipython-input-67-db52e8ca8bd3>\u001b[0m in \u001b[0;36m<module>\u001b[1;34m\u001b[0m\n\u001b[0;32m      3\u001b[0m \u001b[0mresponse\u001b[0m \u001b[1;33m=\u001b[0m \u001b[0mrequests\u001b[0m\u001b[1;33m.\u001b[0m\u001b[0mget\u001b[0m\u001b[1;33m(\u001b[0m\u001b[0mpage_url\u001b[0m\u001b[1;33m,\u001b[0m \u001b[0mheaders\u001b[0m\u001b[1;33m=\u001b[0m\u001b[0mheaders\u001b[0m\u001b[1;33m)\u001b[0m\u001b[1;33m\u001b[0m\u001b[1;33m\u001b[0m\u001b[0m\n\u001b[0;32m      4\u001b[0m \u001b[1;32mif\u001b[0m \u001b[0mresponse\u001b[0m\u001b[1;33m.\u001b[0m\u001b[0mstatus_code\u001b[0m \u001b[1;33m!=\u001b[0m \u001b[1;36m200\u001b[0m\u001b[1;33m:\u001b[0m\u001b[1;33m\u001b[0m\u001b[1;33m\u001b[0m\u001b[0m\n\u001b[1;32m----> 5\u001b[1;33m     \u001b[1;32mraise\u001b[0m \u001b[0mException\u001b[0m\u001b[1;33m(\u001b[0m\u001b[1;34mf'The status code is not 200! It is {response.status_code}.'\u001b[0m\u001b[1;33m)\u001b[0m\u001b[1;33m\u001b[0m\u001b[1;33m\u001b[0m\u001b[0m\n\u001b[0m\u001b[0;32m      6\u001b[0m \u001b[1;33m\u001b[0m\u001b[0m\n\u001b[0;32m      7\u001b[0m \u001b[0mtext\u001b[0m \u001b[1;33m=\u001b[0m \u001b[0mBeautifulSoup\u001b[0m\u001b[1;33m(\u001b[0m\u001b[0mresponse\u001b[0m\u001b[1;33m.\u001b[0m\u001b[0mtext\u001b[0m\u001b[1;33m,\u001b[0m \u001b[1;34m'html.parser'\u001b[0m\u001b[1;33m)\u001b[0m\u001b[1;33m\u001b[0m\u001b[1;33m\u001b[0m\u001b[0m\n",
      "\u001b[1;31mException\u001b[0m: The status code is not 200! It is 403."
     ]
    }
   ],
   "source": [
    "headers = {'User-Agent': 'Mozilla/5.0 (Windows NT 10.0; Win64; x64) AppleWebKit/537.36 (KHTML, like Gecko) Chrome/88.0.4324.104 Safari/537.36'}\n",
    "page_url = 'https://opensea.io/rankings?sortBy=thirty_day_volume'\n",
    "response = requests.get(page_url, headers=headers)\n",
    "if response.status_code != 200:\n",
    "    raise Exception(f'The status code is not 200! It is {response.status_code}.')\n",
    "\n",
    "text = BeautifulSoup(response.text, 'html.parser')\n",
    "nft_divs = text.find_all('div', attrs={'role': 'listitem' })\n",
    "nft_urls = [tag.find('a').get('href') for tag in nft_divs]\n",
    "complete_nft_urls = [f'https://opensea.io/{end_part}' for end_part in nft_urls]"
   ]
  },
  {
   "cell_type": "code",
   "execution_count": 52,
   "id": "4b8eb0b1",
   "metadata": {},
   "outputs": [
    {
     "data": {
      "text/plain": [
       "{'stats': {'one_day_volume': 594.5871141399999,\n",
       "  'one_day_change': -0.03070817619357472,\n",
       "  'one_day_sales': 156.0,\n",
       "  'one_day_average_price': 3.8114558598717942,\n",
       "  'seven_day_volume': 4595.54446345286,\n",
       "  'seven_day_change': -0.37933887587066445,\n",
       "  'seven_day_sales': 1182.0,\n",
       "  'seven_day_average_price': 3.8879394783865147,\n",
       "  'thirty_day_volume': 25092.63147613242,\n",
       "  'thirty_day_change': -0.1170844494256232,\n",
       "  'thirty_day_sales': 6299.0,\n",
       "  'thirty_day_average_price': 3.98358969298816,\n",
       "  'total_volume': 139885.82813327265,\n",
       "  'total_sales': 77120.0,\n",
       "  'total_supply': 104271.0,\n",
       "  'count': 104271.0,\n",
       "  'num_owners': 18834,\n",
       "  'average_price': 1.813872252765465,\n",
       "  'num_reports': 8,\n",
       "  'market_cap': 405399.3373508403,\n",
       "  'floor_price': 3.479},\n",
       " 'x': {'one_day_volume': 594.5871141399999,\n",
       "  'one_day_change': -0.03070817619357472,\n",
       "  'one_day_sales': 156.0,\n",
       "  'one_day_average_price': 3.8114558598717942,\n",
       "  'seven_day_volume': 4595.54446345286,\n",
       "  'seven_day_change': -0.37933887587066445,\n",
       "  'seven_day_sales': 1182.0,\n",
       "  'seven_day_average_price': 3.8879394783865147,\n",
       "  'thirty_day_volume': 25092.63147613242,\n",
       "  'thirty_day_change': -0.1170844494256232,\n",
       "  'thirty_day_sales': 6299.0,\n",
       "  'thirty_day_average_price': 3.98358969298816,\n",
       "  'total_volume': 139885.82813327265,\n",
       "  'total_sales': 77120.0,\n",
       "  'total_supply': 104271.0,\n",
       "  'count': 104271.0,\n",
       "  'num_owners': 18834,\n",
       "  'average_price': 1.813872252765465,\n",
       "  'num_reports': 8,\n",
       "  'market_cap': 405399.3373508403,\n",
       "  'floor_price': 3.479}}"
      ]
     },
     "execution_count": 52,
     "metadata": {},
     "output_type": "execute_result"
    }
   ],
   "source": [
    "x = 'sandbox'\n",
    "url = \"https://api.opensea.io/api/v1/collection/{}/stats\".format(x)\n",
    "headers = {\"Accept\": \"application/json\"}\n",
    "\n",
    "response = requests.request(\"GET\", url, headers=headers)\n",
    "nft_dict = response.json()\n",
    "nft_dict['x'] = nft_dict['stats']\n",
    "nft_dict"
   ]
  },
  {
   "cell_type": "code",
   "execution_count": 60,
   "id": "01ba4069",
   "metadata": {},
   "outputs": [],
   "source": [
    "import requests\n",
    "def import_api(names): \n",
    "    \"\"\"\n",
    "    \n",
    "    \n",
    "    \n",
    "    \"\"\"\n",
    "    \n",
    "    \n",
    "    nft ={}\n",
    "    for x in names:\n",
    "    \n",
    "        url = \"https://api.opensea.io/api/v1/collection/{}/stats\".format(x)\n",
    "\n",
    "        headers = {\"Accept\": \"application/json\"}\n",
    "\n",
    "        response = requests.request(\"GET\", url, headers=headers)\n",
    "        nft_dict = response.json()\n",
    "       \n",
    "        nft[x] = nft_dict['stats']\n",
    "        \n",
    "#         nft.update(nft_dict)\n",
    "        \n",
    "    return nft"
   ]
  },
  {
   "cell_type": "code",
   "execution_count": 64,
   "id": "242a7b46",
   "metadata": {},
   "outputs": [
    {
     "data": {
      "text/html": [
       "<div>\n",
       "<style scoped>\n",
       "    .dataframe tbody tr th:only-of-type {\n",
       "        vertical-align: middle;\n",
       "    }\n",
       "\n",
       "    .dataframe tbody tr th {\n",
       "        vertical-align: top;\n",
       "    }\n",
       "\n",
       "    .dataframe thead th {\n",
       "        text-align: right;\n",
       "    }\n",
       "</style>\n",
       "<table border=\"1\" class=\"dataframe\">\n",
       "  <thead>\n",
       "    <tr style=\"text-align: right;\">\n",
       "      <th></th>\n",
       "      <th>one_day_volume</th>\n",
       "      <th>one_day_change</th>\n",
       "      <th>one_day_sales</th>\n",
       "      <th>one_day_average_price</th>\n",
       "      <th>seven_day_volume</th>\n",
       "      <th>seven_day_change</th>\n",
       "      <th>seven_day_sales</th>\n",
       "      <th>seven_day_average_price</th>\n",
       "      <th>thirty_day_volume</th>\n",
       "      <th>thirty_day_change</th>\n",
       "      <th>...</th>\n",
       "      <th>thirty_day_average_price</th>\n",
       "      <th>total_volume</th>\n",
       "      <th>total_sales</th>\n",
       "      <th>total_supply</th>\n",
       "      <th>count</th>\n",
       "      <th>num_owners</th>\n",
       "      <th>average_price</th>\n",
       "      <th>num_reports</th>\n",
       "      <th>market_cap</th>\n",
       "      <th>floor_price</th>\n",
       "    </tr>\n",
       "  </thead>\n",
       "  <tbody>\n",
       "    <tr>\n",
       "      <th>sandbox</th>\n",
       "      <td>599.637114</td>\n",
       "      <td>-0.020624</td>\n",
       "      <td>158.0</td>\n",
       "      <td>3.795172</td>\n",
       "      <td>4598.414463</td>\n",
       "      <td>-0.379595</td>\n",
       "      <td>1183.0</td>\n",
       "      <td>3.887079</td>\n",
       "      <td>25103.181476</td>\n",
       "      <td>-0.115966</td>\n",
       "      <td>...</td>\n",
       "      <td>3.983367</td>\n",
       "      <td>139896.378133</td>\n",
       "      <td>77123.0</td>\n",
       "      <td>104271.0</td>\n",
       "      <td>104271.0</td>\n",
       "      <td>18836.0</td>\n",
       "      <td>1.813938</td>\n",
       "      <td>8.0</td>\n",
       "      <td>405309.614978</td>\n",
       "      <td>3.479000</td>\n",
       "    </tr>\n",
       "    <tr>\n",
       "      <th>cryptopunks</th>\n",
       "      <td>908.970000</td>\n",
       "      <td>-0.676867</td>\n",
       "      <td>13.0</td>\n",
       "      <td>69.920769</td>\n",
       "      <td>9277.206600</td>\n",
       "      <td>1.796191</td>\n",
       "      <td>125.0</td>\n",
       "      <td>74.217653</td>\n",
       "      <td>27647.540600</td>\n",
       "      <td>-0.280335</td>\n",
       "      <td>...</td>\n",
       "      <td>73.335651</td>\n",
       "      <td>791961.382849</td>\n",
       "      <td>18676.0</td>\n",
       "      <td>9999.0</td>\n",
       "      <td>9999.0</td>\n",
       "      <td>3373.0</td>\n",
       "      <td>42.405300</td>\n",
       "      <td>5.0</td>\n",
       "      <td>742102.310347</td>\n",
       "      <td>NaN</td>\n",
       "    </tr>\n",
       "    <tr>\n",
       "      <th>boredapeyachtclub</th>\n",
       "      <td>2295.496900</td>\n",
       "      <td>0.299242</td>\n",
       "      <td>25.0</td>\n",
       "      <td>91.819876</td>\n",
       "      <td>12794.140800</td>\n",
       "      <td>0.007355</td>\n",
       "      <td>136.0</td>\n",
       "      <td>94.074565</td>\n",
       "      <td>68824.012997</td>\n",
       "      <td>1.219095</td>\n",
       "      <td>...</td>\n",
       "      <td>83.931723</td>\n",
       "      <td>339393.320702</td>\n",
       "      <td>24133.0</td>\n",
       "      <td>10000.0</td>\n",
       "      <td>10000.0</td>\n",
       "      <td>6182.0</td>\n",
       "      <td>14.063453</td>\n",
       "      <td>18.0</td>\n",
       "      <td>940745.647059</td>\n",
       "      <td>88.000000</td>\n",
       "    </tr>\n",
       "    <tr>\n",
       "      <th>decentraland</th>\n",
       "      <td>391.432836</td>\n",
       "      <td>1.214873</td>\n",
       "      <td>59.0</td>\n",
       "      <td>6.634455</td>\n",
       "      <td>2400.892218</td>\n",
       "      <td>0.385542</td>\n",
       "      <td>306.0</td>\n",
       "      <td>7.846053</td>\n",
       "      <td>7862.071942</td>\n",
       "      <td>-0.175130</td>\n",
       "      <td>...</td>\n",
       "      <td>6.210167</td>\n",
       "      <td>231750.294626</td>\n",
       "      <td>17243.0</td>\n",
       "      <td>97240.0</td>\n",
       "      <td>97240.0</td>\n",
       "      <td>6530.0</td>\n",
       "      <td>13.440254</td>\n",
       "      <td>1.0</td>\n",
       "      <td>762950.193780</td>\n",
       "      <td>4.168632</td>\n",
       "    </tr>\n",
       "    <tr>\n",
       "      <th>art-blocks</th>\n",
       "      <td>379.760871</td>\n",
       "      <td>9.052222</td>\n",
       "      <td>211.0</td>\n",
       "      <td>1.794367</td>\n",
       "      <td>1002.779283</td>\n",
       "      <td>-0.295394</td>\n",
       "      <td>451.0</td>\n",
       "      <td>2.219965</td>\n",
       "      <td>8624.076799</td>\n",
       "      <td>-0.131652</td>\n",
       "      <td>...</td>\n",
       "      <td>2.942587</td>\n",
       "      <td>221364.008397</td>\n",
       "      <td>48769.0</td>\n",
       "      <td>48578.0</td>\n",
       "      <td>48578.0</td>\n",
       "      <td>10308.0</td>\n",
       "      <td>4.539044</td>\n",
       "      <td>0.0</td>\n",
       "      <td>107841.470859</td>\n",
       "      <td>NaN</td>\n",
       "    </tr>\n",
       "  </tbody>\n",
       "</table>\n",
       "<p>5 rows × 21 columns</p>\n",
       "</div>"
      ],
      "text/plain": [
       "                   one_day_volume  one_day_change  one_day_sales  \\\n",
       "sandbox                599.637114       -0.020624          158.0   \n",
       "cryptopunks            908.970000       -0.676867           13.0   \n",
       "boredapeyachtclub     2295.496900        0.299242           25.0   \n",
       "decentraland           391.432836        1.214873           59.0   \n",
       "art-blocks             379.760871        9.052222          211.0   \n",
       "\n",
       "                   one_day_average_price  seven_day_volume  seven_day_change  \\\n",
       "sandbox                         3.795172       4598.414463         -0.379595   \n",
       "cryptopunks                    69.920769       9277.206600          1.796191   \n",
       "boredapeyachtclub              91.819876      12794.140800          0.007355   \n",
       "decentraland                    6.634455       2400.892218          0.385542   \n",
       "art-blocks                      1.794367       1002.779283         -0.295394   \n",
       "\n",
       "                   seven_day_sales  seven_day_average_price  \\\n",
       "sandbox                     1183.0                 3.887079   \n",
       "cryptopunks                  125.0                74.217653   \n",
       "boredapeyachtclub            136.0                94.074565   \n",
       "decentraland                 306.0                 7.846053   \n",
       "art-blocks                   451.0                 2.219965   \n",
       "\n",
       "                   thirty_day_volume  thirty_day_change  ...  \\\n",
       "sandbox                 25103.181476          -0.115966  ...   \n",
       "cryptopunks             27647.540600          -0.280335  ...   \n",
       "boredapeyachtclub       68824.012997           1.219095  ...   \n",
       "decentraland             7862.071942          -0.175130  ...   \n",
       "art-blocks               8624.076799          -0.131652  ...   \n",
       "\n",
       "                   thirty_day_average_price   total_volume  total_sales  \\\n",
       "sandbox                            3.983367  139896.378133      77123.0   \n",
       "cryptopunks                       73.335651  791961.382849      18676.0   \n",
       "boredapeyachtclub                 83.931723  339393.320702      24133.0   \n",
       "decentraland                       6.210167  231750.294626      17243.0   \n",
       "art-blocks                         2.942587  221364.008397      48769.0   \n",
       "\n",
       "                   total_supply     count  num_owners  average_price  \\\n",
       "sandbox                104271.0  104271.0     18836.0       1.813938   \n",
       "cryptopunks              9999.0    9999.0      3373.0      42.405300   \n",
       "boredapeyachtclub       10000.0   10000.0      6182.0      14.063453   \n",
       "decentraland            97240.0   97240.0      6530.0      13.440254   \n",
       "art-blocks              48578.0   48578.0     10308.0       4.539044   \n",
       "\n",
       "                   num_reports     market_cap  floor_price  \n",
       "sandbox                    8.0  405309.614978     3.479000  \n",
       "cryptopunks                5.0  742102.310347          NaN  \n",
       "boredapeyachtclub         18.0  940745.647059    88.000000  \n",
       "decentraland               1.0  762950.193780     4.168632  \n",
       "art-blocks                 0.0  107841.470859          NaN  \n",
       "\n",
       "[5 rows x 21 columns]"
      ]
     },
     "execution_count": 64,
     "metadata": {},
     "output_type": "execute_result"
    }
   ],
   "source": [
    "import pandas as pd\n",
    "pd.DataFrame(import_api(names)).T"
   ]
  },
  {
   "cell_type": "code",
   "execution_count": 48,
   "id": "fcb4df3e",
   "metadata": {},
   "outputs": [
    {
     "ename": "NameError",
     "evalue": "name 'nft_dicts' is not defined",
     "output_type": "error",
     "traceback": [
      "\u001b[1;31m---------------------------------------------------------------------------\u001b[0m",
      "\u001b[1;31mNameError\u001b[0m                                 Traceback (most recent call last)",
      "\u001b[1;32m<ipython-input-48-5e660e477a4f>\u001b[0m in \u001b[0;36m<module>\u001b[1;34m\u001b[0m\n\u001b[1;32m----> 1\u001b[1;33m \u001b[0mnft_dicts\u001b[0m\u001b[1;33m\u001b[0m\u001b[1;33m\u001b[0m\u001b[0m\n\u001b[0m",
      "\u001b[1;31mNameError\u001b[0m: name 'nft_dicts' is not defined"
     ]
    }
   ],
   "source": []
  },
  {
   "cell_type": "code",
   "execution_count": 3,
   "id": "c9f8f394",
   "metadata": {
    "scrolled": true
   },
   "outputs": [
    {
     "ename": "NameError",
     "evalue": "name 'response' is not defined",
     "output_type": "error",
     "traceback": [
      "\u001b[1;31m---------------------------------------------------------------------------\u001b[0m",
      "\u001b[1;31mNameError\u001b[0m                                 Traceback (most recent call last)",
      "\u001b[1;32m<ipython-input-3-20afcfaa9fd6>\u001b[0m in \u001b[0;36m<module>\u001b[1;34m\u001b[0m\n\u001b[1;32m----> 1\u001b[1;33m \u001b[0mnft_dict\u001b[0m \u001b[1;33m=\u001b[0m \u001b[0mresponse\u001b[0m\u001b[1;33m.\u001b[0m\u001b[0mtext\u001b[0m\u001b[1;33m\u001b[0m\u001b[1;33m\u001b[0m\u001b[0m\n\u001b[0m",
      "\u001b[1;31mNameError\u001b[0m: name 'response' is not defined"
     ]
    }
   ],
   "source": [
    "nft_dict = response.text"
   ]
  },
  {
   "cell_type": "code",
   "execution_count": 86,
   "id": "96c76ed9",
   "metadata": {},
   "outputs": [],
   "source": [
    "result = json.loads(nft_dict)"
   ]
  },
  {
   "cell_type": "code",
   "execution_count": 82,
   "id": "903aa59d",
   "metadata": {},
   "outputs": [
    {
     "data": {
      "text/plain": [
       "{'stats': {'one_day_volume': 2138.4100000000003,\n",
       "  'one_day_change': 0.9948040560079854,\n",
       "  'one_day_sales': 22.0,\n",
       "  'one_day_average_price': 97.20045454545456,\n",
       "  'seven_day_volume': 12590.828999999996,\n",
       "  'seven_day_change': -0.20704587859555304,\n",
       "  'seven_day_sales': 137.0,\n",
       "  'seven_day_average_price': 91.90386131386859,\n",
       "  'thirty_day_volume': 65359.67089706187,\n",
       "  'thirty_day_change': 1.2882517014384853,\n",
       "  'thirty_day_sales': 804.0,\n",
       "  'thirty_day_average_price': 81.29312300629586,\n",
       "  'total_volume': 331082.6233089446,\n",
       "  'total_sales': 24045.0,\n",
       "  'total_supply': 10000.0,\n",
       "  'count': 10000.0,\n",
       "  'num_owners': 6169,\n",
       "  'average_price': 13.76929188226012,\n",
       "  'num_reports': 12,\n",
       "  'market_cap': 919038.6131386858,\n",
       "  'floor_price': 84.5}}"
      ]
     },
     "execution_count": 82,
     "metadata": {},
     "output_type": "execute_result"
    }
   ],
   "source": [
    "result"
   ]
  },
  {
   "cell_type": "code",
   "execution_count": 63,
   "id": "c6890260",
   "metadata": {},
   "outputs": [
    {
     "data": {
      "text/plain": [
       "21"
      ]
     },
     "execution_count": 63,
     "metadata": {},
     "output_type": "execute_result"
    }
   ],
   "source": [
    "len(result.keys())"
   ]
  },
  {
   "cell_type": "code",
   "execution_count": 70,
   "id": "4cf8277d",
   "metadata": {},
   "outputs": [],
   "source": [
    "dataframe1 = pd.DataFrame(result,index = range(1))"
   ]
  },
  {
   "cell_type": "code",
   "execution_count": 67,
   "id": "cce2a729",
   "metadata": {},
   "outputs": [
    {
     "data": {
      "text/html": [
       "<div>\n",
       "<style scoped>\n",
       "    .dataframe tbody tr th:only-of-type {\n",
       "        vertical-align: middle;\n",
       "    }\n",
       "\n",
       "    .dataframe tbody tr th {\n",
       "        vertical-align: top;\n",
       "    }\n",
       "\n",
       "    .dataframe thead th {\n",
       "        text-align: right;\n",
       "    }\n",
       "</style>\n",
       "<table border=\"1\" class=\"dataframe\">\n",
       "  <thead>\n",
       "    <tr style=\"text-align: right;\">\n",
       "      <th></th>\n",
       "      <th>one_day_volume</th>\n",
       "      <th>one_day_change</th>\n",
       "      <th>one_day_sales</th>\n",
       "      <th>one_day_average_price</th>\n",
       "      <th>seven_day_volume</th>\n",
       "      <th>seven_day_change</th>\n",
       "      <th>seven_day_sales</th>\n",
       "      <th>seven_day_average_price</th>\n",
       "      <th>thirty_day_volume</th>\n",
       "      <th>thirty_day_change</th>\n",
       "      <th>...</th>\n",
       "      <th>thirty_day_average_price</th>\n",
       "      <th>total_volume</th>\n",
       "      <th>total_sales</th>\n",
       "      <th>total_supply</th>\n",
       "      <th>count</th>\n",
       "      <th>num_owners</th>\n",
       "      <th>average_price</th>\n",
       "      <th>num_reports</th>\n",
       "      <th>market_cap</th>\n",
       "      <th>floor_price</th>\n",
       "    </tr>\n",
       "  </thead>\n",
       "  <tbody>\n",
       "    <tr>\n",
       "      <th>0</th>\n",
       "      <td>2138.41</td>\n",
       "      <td>0.994804</td>\n",
       "      <td>22.0</td>\n",
       "      <td>97.200455</td>\n",
       "      <td>12590.829</td>\n",
       "      <td>-0.207046</td>\n",
       "      <td>137.0</td>\n",
       "      <td>91.903861</td>\n",
       "      <td>65359.670897</td>\n",
       "      <td>1.288252</td>\n",
       "      <td>...</td>\n",
       "      <td>81.293123</td>\n",
       "      <td>331082.623309</td>\n",
       "      <td>24045.0</td>\n",
       "      <td>10000.0</td>\n",
       "      <td>10000.0</td>\n",
       "      <td>6169</td>\n",
       "      <td>13.769292</td>\n",
       "      <td>12</td>\n",
       "      <td>919038.613139</td>\n",
       "      <td>84.5</td>\n",
       "    </tr>\n",
       "    <tr>\n",
       "      <th>1</th>\n",
       "      <td>2138.41</td>\n",
       "      <td>0.994804</td>\n",
       "      <td>22.0</td>\n",
       "      <td>97.200455</td>\n",
       "      <td>12590.829</td>\n",
       "      <td>-0.207046</td>\n",
       "      <td>137.0</td>\n",
       "      <td>91.903861</td>\n",
       "      <td>65359.670897</td>\n",
       "      <td>1.288252</td>\n",
       "      <td>...</td>\n",
       "      <td>81.293123</td>\n",
       "      <td>331082.623309</td>\n",
       "      <td>24045.0</td>\n",
       "      <td>10000.0</td>\n",
       "      <td>10000.0</td>\n",
       "      <td>6169</td>\n",
       "      <td>13.769292</td>\n",
       "      <td>12</td>\n",
       "      <td>919038.613139</td>\n",
       "      <td>84.5</td>\n",
       "    </tr>\n",
       "  </tbody>\n",
       "</table>\n",
       "<p>2 rows × 21 columns</p>\n",
       "</div>"
      ],
      "text/plain": [
       "   one_day_volume  one_day_change  one_day_sales  one_day_average_price  \\\n",
       "0         2138.41        0.994804           22.0              97.200455   \n",
       "1         2138.41        0.994804           22.0              97.200455   \n",
       "\n",
       "   seven_day_volume  seven_day_change  seven_day_sales  \\\n",
       "0         12590.829         -0.207046            137.0   \n",
       "1         12590.829         -0.207046            137.0   \n",
       "\n",
       "   seven_day_average_price  thirty_day_volume  thirty_day_change  ...  \\\n",
       "0                91.903861       65359.670897           1.288252  ...   \n",
       "1                91.903861       65359.670897           1.288252  ...   \n",
       "\n",
       "   thirty_day_average_price   total_volume  total_sales  total_supply  \\\n",
       "0                 81.293123  331082.623309      24045.0       10000.0   \n",
       "1                 81.293123  331082.623309      24045.0       10000.0   \n",
       "\n",
       "     count  num_owners  average_price  num_reports     market_cap  floor_price  \n",
       "0  10000.0        6169      13.769292           12  919038.613139         84.5  \n",
       "1  10000.0        6169      13.769292           12  919038.613139         84.5  \n",
       "\n",
       "[2 rows x 21 columns]"
      ]
     },
     "execution_count": 67,
     "metadata": {},
     "output_type": "execute_result"
    }
   ],
   "source": [
    "dataframe1"
   ]
  },
  {
   "cell_type": "code",
   "execution_count": null,
   "id": "21de8fa4",
   "metadata": {},
   "outputs": [],
   "source": [
    "project should have begining and end - come to a conclusion and answer the question asked "
   ]
  },
  {
   "cell_type": "code",
   "execution_count": null,
   "id": "3f172993",
   "metadata": {},
   "outputs": [],
   "source": [
    "needs to be concise - 10 min presentation "
   ]
  },
  {
   "cell_type": "code",
   "execution_count": 66,
   "id": "24906672",
   "metadata": {},
   "outputs": [
    {
     "ename": "Exception",
     "evalue": "The status code is not 200! It is 403.",
     "output_type": "error",
     "traceback": [
      "\u001b[1;31m---------------------------------------------------------------------------\u001b[0m",
      "\u001b[1;31mException\u001b[0m                                 Traceback (most recent call last)",
      "\u001b[1;32m<ipython-input-66-56268a871f8a>\u001b[0m in \u001b[0;36m<module>\u001b[1;34m\u001b[0m\n\u001b[0;32m      2\u001b[0m \u001b[0mresponse\u001b[0m \u001b[1;33m=\u001b[0m \u001b[0mrequests\u001b[0m\u001b[1;33m.\u001b[0m\u001b[0mget\u001b[0m\u001b[1;33m(\u001b[0m\u001b[0mpage_url\u001b[0m\u001b[1;33m,\u001b[0m \u001b[0mheaders\u001b[0m\u001b[1;33m=\u001b[0m\u001b[0mheaders\u001b[0m\u001b[1;33m)\u001b[0m\u001b[1;33m\u001b[0m\u001b[1;33m\u001b[0m\u001b[0m\n\u001b[0;32m      3\u001b[0m \u001b[1;32mif\u001b[0m \u001b[0mresponse\u001b[0m\u001b[1;33m.\u001b[0m\u001b[0mstatus_code\u001b[0m \u001b[1;33m!=\u001b[0m \u001b[1;36m200\u001b[0m\u001b[1;33m:\u001b[0m\u001b[1;33m\u001b[0m\u001b[1;33m\u001b[0m\u001b[0m\n\u001b[1;32m----> 4\u001b[1;33m     \u001b[1;32mraise\u001b[0m \u001b[0mException\u001b[0m\u001b[1;33m(\u001b[0m\u001b[1;34mf'The status code is not 200! It is {response.status_code}.'\u001b[0m\u001b[1;33m)\u001b[0m\u001b[1;33m\u001b[0m\u001b[1;33m\u001b[0m\u001b[0m\n\u001b[0m\u001b[0;32m      5\u001b[0m \u001b[1;33m\u001b[0m\u001b[0m\n\u001b[0;32m      6\u001b[0m \u001b[0mtext\u001b[0m \u001b[1;33m=\u001b[0m \u001b[0mBeautifulSoup\u001b[0m\u001b[1;33m(\u001b[0m\u001b[0mresponse\u001b[0m\u001b[1;33m.\u001b[0m\u001b[0mtext\u001b[0m\u001b[1;33m,\u001b[0m \u001b[1;34m'html.parser'\u001b[0m\u001b[1;33m)\u001b[0m\u001b[1;33m\u001b[0m\u001b[1;33m\u001b[0m\u001b[0m\n",
      "\u001b[1;31mException\u001b[0m: The status code is not 200! It is 403."
     ]
    }
   ],
   "source": []
  },
  {
   "cell_type": "code",
   "execution_count": null,
   "id": "829c8cc2",
   "metadata": {},
   "outputs": [],
   "source": [
    "BEautiful ai -- presentation maker "
   ]
  }
 ],
 "metadata": {
  "kernelspec": {
   "display_name": "Python 3",
   "language": "python",
   "name": "python3"
  },
  "language_info": {
   "codemirror_mode": {
    "name": "ipython",
    "version": 3
   },
   "file_extension": ".py",
   "mimetype": "text/x-python",
   "name": "python",
   "nbconvert_exporter": "python",
   "pygments_lexer": "ipython3",
   "version": "3.8.8"
  }
 },
 "nbformat": 4,
 "nbformat_minor": 5
}
