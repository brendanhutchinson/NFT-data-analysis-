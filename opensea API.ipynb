{
 "cells": [
  {
   "cell_type": "code",
   "execution_count": null,
   "id": "57f388d1",
   "metadata": {
    "scrolled": true
   },
   "outputs": [],
   "source": [
    "# import requirments \n",
    "import json\n",
    "import pandas as pd \n",
    "import matplotlib as plt \n",
    "import seaborn as sns\n",
    "import selenium\n",
    "from scipy import stats\n",
    "import numpy as np\n",
    "\n",
    "import plotly.express as px\n",
    "\n",
    "import plotly.graph_objects as go\n",
    "\n",
    "import requests\n",
    "from selenium import webdriver\n",
    "\n",
    "import time\n",
    "from selenium.webdriver.common.by import By\n",
    "from selenium.webdriver.support.ui import WebDriverWait"
   ]
  },
  {
   "cell_type": "code",
   "execution_count": null,
   "id": "2667276f",
   "metadata": {
    "scrolled": true
   },
   "outputs": [],
   "source": [
    "# Using Selenium to Scrape opensea for NFT transaction and Sales Data \n",
    "\n",
    "driver = webdriver.Chrome(\"C:\\\\Users\\\\brend\\\\chromedriver\\\\chromedriver_win32\\\\chromedriver.exe\")\n",
    "driver.get('https://opensea.io/rankings?sortBy=total_volume')\n",
    "\n",
    "url_list = set()\n",
    "n = len(url_list)\n",
    "i = 0\n",
    "while True:\n",
    "    driver.execute_script(f\"window.scrollTo(0, {1000*i});\") # Scrolls to bottom of page to load new data on opensea.\n",
    "    time.sleep(1)\n",
    "    lines = driver.find_elements(By.CLASS_NAME, value = 'styles__StyledLink-sc-l6elh8-0') # finding collection names for API call \n",
    "    url_lst = [a.get_attribute('href') for a in lines]\n",
    "    url_list = url_list.union(set(url_lst)) # appending to set for distinct collection names \n",
    "    if len(url_list) == n:\n",
    "        break\n",
    "    n = len(url_list)\n",
    "    i += 1\n",
    "\n",
    "driver.close()\n",
    "\n",
    " # cleaning collection names\n",
    "url_list = list(url_list)\n",
    "split = [i.split(\"/\")for i in url_list]  \n",
    "collection_names = [i[-1] for i in split]\n",
    "\n",
    "\n",
    "collection_names.remove('')\n",
    "\n",
    "\n",
    "\n",
    "collection_names.remove('account')\n",
    "collection_names[:70]\n",
    "\n",
    "\n",
    "   \n",
    "# Collecting Data from opensea API \n",
    "\n",
    "NFT_dict ={}\n",
    "for b in collection_names:\n",
    "    url = f\"https://api.opensea.io/api/v1/collection/{b}/stats\"\n",
    "    headers = {\"Accept\": \"application/json\"}\n",
    "    response = requests.request(\"GET\", url, headers=headers)\n",
    "    nft_dict = response.json()\n",
    "    NFT_dict[f'{b}'] = (nft_dict['stats'])\n",
    "    \n",
    "stats_df= pd.DataFrame(NFT_dict).T\n"
   ]
  },
  {
   "cell_type": "code",
   "execution_count": null,
   "id": "be375ca4",
   "metadata": {},
   "outputs": [],
   "source": []
  },
  {
   "cell_type": "code",
   "execution_count": null,
   "id": "8c0e5805",
   "metadata": {
    "scrolled": true
   },
   "outputs": [],
   "source": [
    "# average price plot \n",
    "price_plot = stats_df[['average_price','floor_price','total_volume']].sort_values(by = 'average_price',ascending=False)\n",
    "price_plot.to_csv('price_plot.csv')"
   ]
  },
  {
   "cell_type": "code",
   "execution_count": null,
   "id": "7b8343d1",
   "metadata": {
    "scrolled": true
   },
   "outputs": [],
   "source": [
    "# scatter describing the correlation between amount in collection and total volume traded \n",
    "count_group = stats_df[['count', 'total_volume']].groupby('count').mean()\n",
    "count_group = count_group[count_group.index <100000]\n",
    "count_group = count_group[count_group.total_volume < 100000]\n",
    "px.scatter(count_group, x= count_group.index, y ='total_volume', color = count_group.index)\n"
   ]
  },
  {
   "cell_type": "code",
   "execution_count": null,
   "id": "5c3c26bc",
   "metadata": {
    "scrolled": true
   },
   "outputs": [],
   "source": [
    "## total volume traded - 12 billion\n",
    "sum_total_volume = float(stats_df.total_volume.sum())\n",
    "sum_total_volume * 2538.30\n",
    "## total volume traded 12 billion "
   ]
  },
  {
   "cell_type": "code",
   "execution_count": null,
   "id": "813690f1",
   "metadata": {},
   "outputs": [],
   "source": [
    "# Top 10 Collections with greatest thirty day change in price  \n",
    "top30change = stats_df[['thirty_day_change']].sort_values(by= 'thirty_day_change',ascending =False).head(10)"
   ]
  },
  {
   "cell_type": "code",
   "execution_count": null,
   "id": "64130d5b",
   "metadata": {
    "scrolled": true
   },
   "outputs": [],
   "source": [
    "### ratio of one day change vs total change \n",
    "print(stats_df.thirty_day_change.max() / stats_df.thirty_day_change.sum())\n",
    "stats_df[stats_df['thirty_day_change']==stats_df['thirty_day_change'].max()]\n",
    "df1 = stats_df[['thirty_day_change']]\n",
    "\n",
    "df1['30_day_ratio'] = df1[['thirty_day_change']]/df1['thirty_day_change'].sum()\n",
    "df1=df1.sort_values(by='30_day_ratio',ascending = False).head(10)\n",
    "px.pie(df1,values = '30_day_ratio' , names = df1.index)\n",
    "max_30_change = df1[['thirty_day_change']].sort_values(by= 'thirty_day_change',ascending=False).head(10)\n",
    "\n",
    "\n"
   ]
  },
  {
   "cell_type": "code",
   "execution_count": null,
   "id": "3be0fb89",
   "metadata": {
    "scrolled": true
   },
   "outputs": [],
   "source": [
    "### highest grossing NFTs \n",
    "most_profit =stats_df.sort_values(by='total_volume',ascending =False).head(20)\n",
    "px.bar(most_profit, x=most_profit.index,y='total_volume')\n"
   ]
  },
  {
   "cell_type": "code",
   "execution_count": null,
   "id": "85832bcd",
   "metadata": {
    "scrolled": false
   },
   "outputs": [],
   "source": [
    "## difference between number of total sales and the num of owners \n",
    "\n",
    "diff = stats_df[['num_owners','total_sales','total_volume']]\n",
    "\n",
    "diff['num-sales'] = diff['total_sales'] - diff['num_owners']\n",
    "\n",
    "diff = diff.drop('rarible') # dropping outlier collection. \n",
    "diff['num-sales'].median()\n",
    "fig6= px.bar(diff.sort_values(by = 'total_volume',ascending = False).reset_index().tail(20), x = 'index', y= 'num-sales')\n",
    "fig5= px.bar(diff.sort_values(by = 'total_volume',ascending = False).reset_index().head(20), x = 'index', y= 'num-sales')\n",
    "fig5=fig5.add_hline(y=11974.0)\n"
   ]
  },
  {
   "cell_type": "code",
   "execution_count": null,
   "id": "0dc225f5",
   "metadata": {
    "scrolled": false
   },
   "outputs": [],
   "source": [
    "\n",
    "### amount of nfts  in  the top 10 selling NFT collections   -- line is median() amount of nfts in top 100 nfts \n",
    "\n",
    "sup_plt = stats_df[['total_volume','total_supply']].sort_values(by= 'total_volume',ascending =False).head(10)\n",
    "sup_plt = sup_plt.reset_index()\n",
    "sup_plt.total_supply.median()\n",
    "fig1 = px.bar(sup_plt, x=\"index\", y= \"total_supply\", labels={\n",
    "                     \"index\": \"Collection Names\",\n",
    "                     \"total_supply\": \"# of NFTs in collection\"},title = \"Total Supply of Top Selling Collections\").update_xaxes(categoryorder='total descending')\n",
    "fig1=fig1.add_hline(y=34661.5)\n",
    "\n",
    "\n",
    "\n"
   ]
  },
  {
   "cell_type": "code",
   "execution_count": null,
   "id": "d1ecbfac",
   "metadata": {
    "scrolled": false
   },
   "outputs": [],
   "source": [
    "# total number of NFTs in collection removing video game collection outliers \n",
    "scat=stats_df[['total_sales','total_volume','count','average_price']]\n",
    "scat = scat.loc[scat['count']<60000]\n",
    "scat_fig = px.box(scat,y='count',labels = {'count':'# of NFTS in collection'})\n",
    "scat_fig.show()"
   ]
  },
  {
   "cell_type": "code",
   "execution_count": null,
   "id": "bc3e97f9",
   "metadata": {
    "scrolled": false
   },
   "outputs": [],
   "source": [
    "# boxplot of top 100 nft collections average price \n",
    "\n",
    "px.box(scat,y='average_price', labels = {'average_price':'Average Price of NFT (ETH)'})"
   ]
  },
  {
   "cell_type": "code",
   "execution_count": null,
   "id": "ae8be369",
   "metadata": {
    "scrolled": true
   },
   "outputs": [],
   "source": [
    "# Top 10 nfts with highest total sales \n",
    "max_sales =stats_df.total_sales.sort_values(ascending = False).to_frame().head(10)\n",
    "max_sales.to_csv('max_sales.csv')\n"
   ]
  },
  {
   "cell_type": "code",
   "execution_count": null,
   "id": "2ef9d645",
   "metadata": {
    "scrolled": true
   },
   "outputs": [],
   "source": [
    "# reading in Historical NFT data \n",
    "historical_nft_data = pd.read_csv(\"C:\\\\Users\\\\brend\\\\NYCDSA\\\\Projects\\\\NFT\\\\NFT-data-analysis-\\\\archive\\\\NFT_Sales.csv\")\n",
    "hist_nft = pd.DataFrame(historical_nft_data)\n",
    "hist_nft.head(25)\n"
   ]
  },
  {
   "cell_type": "code",
   "execution_count": null,
   "id": "72cd98f7",
   "metadata": {
    "scrolled": false
   },
   "outputs": [],
   "source": [
    "# converting data column type\n",
    "type(hist_nft.iloc[0,0])\n",
    "hist_nft.Date=pd.to_datetime(hist_nft.Date)"
   ]
  },
  {
   "cell_type": "code",
   "execution_count": null,
   "id": "452b523a",
   "metadata": {
    "scrolled": true
   },
   "outputs": [],
   "source": [
    "# Cleaning Historical NFT data \n",
    "hist_nft.isnull().sum()\n",
    "hist_nft.Active_Market_Wallets_cumsum = hist_nft.Active_Market_Wallets_cumsum.fillna(hist_nft.Active_Market_Wallets_cumsum.mean())\n",
    "hist_nft.Secondary_Sales_cumsum = hist_nft.Secondary_Sales_cumsum.fillna(hist_nft.Secondary_Sales_cumsum.mean())\n",
    "hist_nft.AverageUSD_cum = hist_nft.AverageUSD_cum.fillna(hist_nft.AverageUSD_cum.mean())\n",
    "hist_nft.Sales_USD  = hist_nft.Sales_USD.fillna(hist_nft.Sales_USD.mean())\n",
    "hist_nft.Number_of_Sales = hist_nft.Number_of_Sales.fillna(hist_nft.Number_of_Sales.mean())\n",
    "hist_nft.Active_Market_Wallets = hist_nft.Active_Market_Wallets.fillna(hist_nft.Active_Market_Wallets.mean())\n",
    "hist_nft.Primary_Sales = hist_nft.Primary_Sales.fillna(hist_nft.Primary_Sales.mean())\n",
    "print(hist_nft.isnull().sum())"
   ]
  },
  {
   "cell_type": "code",
   "execution_count": null,
   "id": "82cde3ef",
   "metadata": {
    "scrolled": true
   },
   "outputs": [],
   "source": [
    "# Subsetting historical nft data. \n",
    "\n",
    "date_line = hist_nft.set_index('Date')\n",
    "date_line = date_line.loc['2020-01-01':,:]['Active_Market_Wallets_cumsum'].reset_index().dropna()\n"
   ]
  },
  {
   "cell_type": "code",
   "execution_count": null,
   "id": "5b542eeb",
   "metadata": {
    "scrolled": true
   },
   "outputs": [],
   "source": [
    "# line plots of NFT collection sales over time\n",
    "\n",
    "multi_line= hist_nft.loc['2020-01-01':,:][['Sales_USD_cumsum','AverageUSD_cum','Date','Secondary_Sales_cumsum','Primary_Sales_cumsum',\"Number_of_Sales_cumsum\",'Active_Market_Wallets_cumsum']].dropna()\n",
    "#multi_line = multi_line.reset_index()\n",
    "multi_line[\"Date\"] = pd.to_datetime(multi_line.Date)\n",
    "multi_line['Date'] = multi_line['Date'].apply(lambda x: x.strftime('%Y-%m'))\n",
    "\n",
    "#multi_line=multi_line.set_index('Date', inplace=True)\n",
    "multi_line = multi_line[['Sales_USD_cumsum','AverageUSD_cum','Date','Secondary_Sales_cumsum','Primary_Sales_cumsum',\"Number_of_Sales_cumsum\",'Active_Market_Wallets_cumsum']].groupby('Date').mean()\n",
    "multi_line['secondary_sales_ratio'] = multi_line.Secondary_Sales_cumsum / multi_line.Number_of_Sales_cumsum\n",
    "multi_line['primary_sales_ratio'] = multi_line.Primary_Sales_cumsum / multi_line.Number_of_Sales_cumsum\n"
   ]
  },
  {
   "cell_type": "code",
   "execution_count": null,
   "id": "dd71e4e3",
   "metadata": {
    "scrolled": false
   },
   "outputs": [],
   "source": [
    "# Creating Secondary Sales Features \n",
    "stackedline =hist_nft[['Date','Number_of_Sales','Active_Market_Wallets','Primary_Sales']]\n",
    "stackedline[\"Date\"] = pd.to_datetime(stackedline.Date)\n",
    "stackedline['Date'] = stackedline['Date'].apply(lambda x: x.strftime('%Y-%m'))\n",
    "stackedline = stackedline.set_index('Date')\n",
    "stackedline =stackedline[['Number_of_Sales','Active_Market_Wallets','Primary_Sales']].groupby(stackedline.index).mean()\n",
    "stackedline['Secondary_sales'] =stackedline['Number_of_Sales']-stackedline['Primary_Sales']\n",
    "stackedline.to_csv('stackedline.csv')\n",
    "\n",
    "stackedline"
   ]
  },
  {
   "cell_type": "code",
   "execution_count": null,
   "id": "1d83f201",
   "metadata": {
    "scrolled": true
   },
   "outputs": [],
   "source": [
    "# Identifying collections with greater secondary sales than primary sales. \n",
    "stackedline['Secondary_sales'] =stackedline['Number_of_Sales']-stackedline['Primary_Sales']\n",
    "stackedline.loc[stackedline.Secondary_sales > stackedline.Primary_Sales]"
   ]
  },
  {
   "cell_type": "code",
   "execution_count": null,
   "id": "b93e85f5",
   "metadata": {
    "scrolled": true
   },
   "outputs": [],
   "source": [
    "# isolatiing the NFT marketplace explosion \n",
    "\n",
    "nft_spike = multi_line\n",
    "nft_spike= nft_spike.loc['2020-01':,:][['Sales_USD_cumsum']].dropna()\n",
    "nft_spike = nft_spike.loc['2021-02':,:]\n"
   ]
  },
  {
   "cell_type": "code",
   "execution_count": null,
   "id": "4165ec3d",
   "metadata": {
    "scrolled": false
   },
   "outputs": [],
   "source": [
    "### sum of active market wallets grouped by date \n",
    "wallet_hist = multi_line.reset_index()\n",
    "wallet_hist[\"Date\"] = pd.to_datetime(wallet_hist.Date)\n",
    "wallet_hist['Date']= wallet_hist['Date'].apply(lambda x: x.strftime('%Y'))\n",
    "zz= wallet_hist[['Active_Market_Wallets_cumsum','Date']].groupby('Date').sum()\n",
    "px.histogram(zz, y='Active_Market_Wallets_cumsum',x=zz.index)"
   ]
  },
  {
   "cell_type": "code",
   "execution_count": null,
   "id": "f35e1424",
   "metadata": {
    "scrolled": false
   },
   "outputs": [],
   "source": [
    "bb = wallet_hist[['Secondary_Sales_cumsum','Date']].groupby('Date').sum()\n",
    "bb.Secondary_Sales_cumsum=bb.Secondary_Sales_cumsum.astype(int)\n",
    "\n",
    "\n",
    "px.bar(bb, x =bb.index, y = 'Secondary_Sales_cumsum' )\n"
   ]
  },
  {
   "cell_type": "code",
   "execution_count": null,
   "id": "09001b1e",
   "metadata": {
    "scrolled": true
   },
   "outputs": [],
   "source": [
    "zz['Active_Market_Wallets_cumsum']\n",
    "zz.sum()"
   ]
  },
  {
   "cell_type": "code",
   "execution_count": null,
   "id": "7665d8fe",
   "metadata": {},
   "outputs": [],
   "source": [
    "# Identifying dates with largest primary sales. \n",
    "primary_by_date = wallet_hist[['Primary_Sales_cumsum','Date']].groupby('Date').sum()\n",
    "primary_by_date.Secondary_Sales_cumsum=primary_by_date.Primary_Sales_cumsum.astype(int)\n"
   ]
  },
  {
   "cell_type": "code",
   "execution_count": null,
   "id": "1a5253ed",
   "metadata": {
    "scrolled": true
   },
   "outputs": [],
   "source": [
    "\n",
    "sales_line = hist_nft.set_index('Date')\n",
    "sales_line = sales_line.loc['2020-01-01':,:][['Sales_USD_cumsum',\"Number_of_Sales_cumsum\",'Active_Market_Wallets_cumsum']].reset_index().dropna()\n"
   ]
  },
  {
   "cell_type": "code",
   "execution_count": null,
   "id": "4ffbb4c4",
   "metadata": {
    "scrolled": true
   },
   "outputs": [],
   "source": [
    "# line graph showing cumalative sales from 2017-2018 \n",
    "fig = px.line(hist_nft,  x=hist_nft.Date, y=hist_nft.Sales_USD_cumsum, title = \"Cumulative USD sales 2017-2021\")\n",
    "fig.show()"
   ]
  },
  {
   "cell_type": "code",
   "execution_count": null,
   "id": "a5371e85",
   "metadata": {
    "scrolled": true
   },
   "outputs": [],
   "source": [
    "## increase in the amount of active wallets 2017 -2021 \n",
    "\n",
    "fig2 = px.line( x=hist_nft.Date, y=hist_nft.Active_Market_Wallets_cumsum, title = \" Amount of Active Market Wallets \")\n",
    "fig2.show()"
   ]
  },
  {
   "cell_type": "code",
   "execution_count": null,
   "id": "1d54bc86",
   "metadata": {
    "scrolled": false
   },
   "outputs": [],
   "source": [
    "# Overall NFT transaction sales with info on transactions, buyers and token owners \n",
    "\n",
    "nft_sales = pd.read_csv(r\"C:\\Users\\brend\\NYCDSA\\Projects\\NFT\\NFT-data-analysis-\\nft_sales.csv\")\n",
    "sales_df = pd.DataFrame(nft_sales)\n",
    "\n",
    "sales_df.Sales =sales_df['Sales'].str.replace(',','')\n",
    "sales_df.Sales =sales_df['Sales'].str.replace('$','')\n",
    "sales_df.Sales= sales_df.Sales.astype(float)\n",
    "sales_df.Buyers =sales_df['Buyers'].str.replace(',','')\n",
    "sales_df.Buyers =sales_df['Buyers'].str.replace('$','')\n",
    "sales_df.Txns =sales_df['Txns'].str.replace(',','')\n",
    "sales_df.Txns =sales_df['Txns'].str.replace('$','')\n",
    "sales_df.Owners =sales_df['Owners'].str.replace(',','')\n",
    "sales_df.Owners =sales_df['Owners'].str.replace('$','')\n",
    "sales_df.Buyers.astype(int)\n",
    "sales_df.Owners.astype(float)\n",
    "sales_df.Txns.astype(int)\n",
    "sales_df\n",
    "\n",
    "sales_df = sales_df.set_index('Collections')\n",
    "\n",
    "b = sales_df.sort_values(by='Sales',ascending=False).head(20)\n",
    "\n",
    "b['Txns'].median()\n",
    "\n",
    "d = sales_df.sort_values(by='Sales',ascending=True).head(20)\n",
    "d.to_csv('collection_sales_buyers_least.csv')\n",
    "\n",
    "print(b.Owners.median())\n",
    "\n",
    "print(b.Buyers.median())\n",
    "\n",
    "\n"
   ]
  },
  {
   "cell_type": "code",
   "execution_count": null,
   "id": "40a6a0b5",
   "metadata": {
    "scrolled": true
   },
   "outputs": [],
   "source": [
    "### merged data frames to include count along with total txns, buyers , and owners \n",
    "sales_df.index= sales_df.index.str.lower()\n",
    "\n",
    "coll_count = stats_df['count'].to_frame()\n",
    "coll_count.median()\n",
    "coll_count_sales = coll_count.merge(sales_df, left_index=True, right_index= True, how='inner')\n",
    "coll_count_sales\n",
    "coll_count_sales.to_csv('coll_count_sales.csv')\n"
   ]
  }
 ],
 "metadata": {
  "kernelspec": {
   "display_name": "Python 3",
   "language": "python",
   "name": "python3"
  },
  "language_info": {
   "codemirror_mode": {
    "name": "ipython",
    "version": 3
   },
   "file_extension": ".py",
   "mimetype": "text/x-python",
   "name": "python",
   "nbconvert_exporter": "python",
   "pygments_lexer": "ipython3",
   "version": "3.8.8"
  }
 },
 "nbformat": 4,
 "nbformat_minor": 5
}
