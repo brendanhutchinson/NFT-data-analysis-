{
 "cells": [
  {
   "cell_type": "code",
   "execution_count": null,
   "id": "3e123e3c",
   "metadata": {},
   "outputs": [],
   "source": [
    "col2_dict = {}\n",
    "for i in collection_names:\n",
    "    url = \"https://api.opensea.io/api/v1/collection/{}\".format(i)\n",
    "\n",
    "    response = requests.request(\"GET\", url)\n",
    "\n",
    "    col_dict = response.json()\n",
    "\n",
    "  \n",
    "    col2_dict[str(i)] = col_dict['collection']\n",
    "\n",
    "\n",
    "\n",
    "\n",
    "\n",
    "collection_df = pd.DataFrame(col2_dict).T\n",
    "\n",
    "### api for collections "
   ]
  },
  {
   "cell_type": "code",
   "execution_count": null,
   "id": "53abed74",
   "metadata": {},
   "outputs": [],
   "source": [
    "driver = webdriver.Chrome(\"C:\\\\Users\\\\brend\\\\chromedriver\\\\chromedriver_win32\\\\chromedriver.exe\")\n",
    "\n",
    "driver.get('https://opensea.io/rankings?sortBy=total_volume')\n",
    "\n",
    "#lines =  driver.find_elements_by_xpath(\"//a[@class='styles__StyledLink-sc-l6elh8-0']\")\n",
    "lines = driver.find_elements(By.CLASS_NAME, value = 'styles__StyledLink-sc-l6elh8-0')\n",
    "url_lst = [a.get_attribute('href') for a in lines]\n",
    "\n",
    "\n",
    "\n",
    "\n",
    "print(driver.title)\n",
    "\n",
    "driver.quit()\n",
    "\n",
    "url_list = url_lst[2:]\n",
    "split = [i.split(\"/\")for i in url_list]\n",
    "firstset_names = [i[-1] for i in split]\n",
    "            \n",
    "firstset_names"
   ]
  },
  {
   "cell_type": "code",
   "execution_count": 72,
   "id": "79c91bd6",
   "metadata": {},
   "outputs": [
    {
     "name": "stderr",
     "output_type": "stream",
     "text": [
      "<ipython-input-72-8bf444759931>:31: DeprecationWarning: executable_path has been deprecated, please pass in a Service object\n",
      "  driver = webdriver.Chrome(\"C:\\\\Users\\\\brend\\\\chromedriver\\\\chromedriver_win32\\\\chromedriver.exe\")\n"
     ]
    },
    {
     "name": "stdout",
     "output_type": "stream",
     "text": [
      "\n",
      "8\n",
      "Decentraland Wearables\n",
      "+ More\n",
      "83,462.24\n",
      "+170.16%\n",
      "12\n",
      "Loot (for Adventurers)\n",
      "+ More\n",
      "73,094.18\n",
      "-73.55%\n",
      "13\n",
      "CryptoKitties\n",
      "+ More\n",
      "70,447.73\n",
      "+229.19%\n",
      "10\n",
      "CLONE X - X TAKASHI MURAKAMI\n",
      "+ More\n",
      "77,841.38\n",
      "-0.41%\n",
      "11\n",
      "Cool Cats NFT\n",
      "+ More\n",
      "77,102.51\n",
      "-36.23%\n",
      "9\n",
      "Meebits\n",
      "+ More\n",
      "82,709.48\n",
      "-10.31%\n",
      "4\n",
      "Art Blocks Curated\n",
      "+ More\n",
      "222,305.63\n",
      "+3.22%\n",
      "6\n",
      "The Sandbox\n",
      "+ More\n",
      "148,362.91\n",
      "+18.28%\n",
      "7\n",
      "Rarible\n",
      "+ More\n",
      "99,495.8\n",
      "+171.39%\n",
      "5\n",
      "Mutant Ape Yacht Club\n",
      "+ More\n",
      "212,970.61\n",
      "-55.55%\n",
      "2\n",
      "Bored Ape Yacht Club\n",
      "+ More\n",
      "349,562.91\n",
      "-8.11%\n",
      "3\n",
      "Decentraland\n",
      "+ More\n",
      "259,274.6\n",
      "-1.75%\n",
      "1\n",
      "CryptoPunks\n",
      "+ More\n",
      "805,520.22\n",
      "-68.20%\n"
     ]
    },
    {
     "ename": "StaleElementReferenceException",
     "evalue": "Message: stale element reference: element is not attached to the page document\n  (Session info: chrome=97.0.4692.99)\nStacktrace:\nBacktrace:\n\tOrdinal0 [0x0097FDC3+2555331]\n\tOrdinal0 [0x009177F1+2127857]\n\tOrdinal0 [0x00812E08+1060360]\n\tOrdinal0 [0x00815524+1070372]\n\tOrdinal0 [0x008153EE+1070062]\n\tOrdinal0 [0x00815650+1070672]\n\tOrdinal0 [0x00839E40+1220160]\n\tOrdinal0 [0x00857B0C+1342220]\n\tOrdinal0 [0x00834984+1198468]\n\tOrdinal0 [0x00857C14+1342484]\n\tOrdinal0 [0x008675FA+1406458]\n\tOrdinal0 [0x00857976+1341814]\n\tOrdinal0 [0x008336B6+1193654]\n\tOrdinal0 [0x00834546+1197382]\n\tGetHandleVerifier [0x00B19622+1619522]\n\tGetHandleVerifier [0x00BC882C+2336844]\n\tGetHandleVerifier [0x00A123E1+541697]\n\tGetHandleVerifier [0x00A11443+537699]\n\tOrdinal0 [0x0091D18E+2150798]\n\tOrdinal0 [0x00921518+2168088]\n\tOrdinal0 [0x00921660+2168416]\n\tOrdinal0 [0x0092B330+2208560]\n\tBaseThreadInitThunk [0x76DC6739+25]\n\tRtlGetFullPathName_UEx [0x77B98AFF+1215]\n\tRtlGetFullPathName_UEx [0x77B98ACD+1165]\n",
     "output_type": "error",
     "traceback": [
      "\u001b[1;31m---------------------------------------------------------------------------\u001b[0m",
      "\u001b[1;31mStaleElementReferenceException\u001b[0m            Traceback (most recent call last)",
      "\u001b[1;32m<ipython-input-72-8bf444759931>\u001b[0m in \u001b[0;36m<module>\u001b[1;34m\u001b[0m\n\u001b[0;32m     30\u001b[0m \u001b[1;32mif\u001b[0m \u001b[0m__name__\u001b[0m \u001b[1;33m==\u001b[0m \u001b[1;34m'__main__'\u001b[0m\u001b[1;33m:\u001b[0m\u001b[1;33m\u001b[0m\u001b[1;33m\u001b[0m\u001b[0m\n\u001b[0;32m     31\u001b[0m     \u001b[0mdriver\u001b[0m \u001b[1;33m=\u001b[0m \u001b[0mwebdriver\u001b[0m\u001b[1;33m.\u001b[0m\u001b[0mChrome\u001b[0m\u001b[1;33m(\u001b[0m\u001b[1;34m\"C:\\\\Users\\\\brend\\\\chromedriver\\\\chromedriver_win32\\\\chromedriver.exe\"\u001b[0m\u001b[1;33m)\u001b[0m\u001b[1;33m\u001b[0m\u001b[1;33m\u001b[0m\u001b[0m\n\u001b[1;32m---> 32\u001b[1;33m     \u001b[1;32mfor\u001b[0m \u001b[0mitem\u001b[0m \u001b[1;32min\u001b[0m \u001b[0mget_collection_names\u001b[0m\u001b[1;33m(\u001b[0m\u001b[0mlink\u001b[0m\u001b[1;33m)\u001b[0m\u001b[1;33m:\u001b[0m\u001b[1;33m\u001b[0m\u001b[1;33m\u001b[0m\u001b[0m\n\u001b[0m\u001b[0;32m     33\u001b[0m         \u001b[0mprint\u001b[0m\u001b[1;33m(\u001b[0m\u001b[0mitem\u001b[0m\u001b[1;33m)\u001b[0m\u001b[1;33m\u001b[0m\u001b[1;33m\u001b[0m\u001b[0m\n\u001b[0;32m     34\u001b[0m     \u001b[0mdriver\u001b[0m\u001b[1;33m.\u001b[0m\u001b[0mquit\u001b[0m\u001b[1;33m(\u001b[0m\u001b[1;33m)\u001b[0m\u001b[1;33m\u001b[0m\u001b[1;33m\u001b[0m\u001b[0m\n",
      "\u001b[1;32m<ipython-input-72-8bf444759931>\u001b[0m in \u001b[0;36mget_collection_names\u001b[1;34m(link)\u001b[0m\n\u001b[0;32m     13\u001b[0m \u001b[1;33m\u001b[0m\u001b[0m\n\u001b[0;32m     14\u001b[0m             \u001b[1;32mfor\u001b[0m \u001b[0melement\u001b[0m \u001b[1;32min\u001b[0m \u001b[0mlines\u001b[0m\u001b[1;33m:\u001b[0m\u001b[1;33m\u001b[0m\u001b[1;33m\u001b[0m\u001b[0m\n\u001b[1;32m---> 15\u001b[1;33m                 \u001b[1;32mif\u001b[0m \u001b[0melement\u001b[0m\u001b[1;33m.\u001b[0m\u001b[0mtext\u001b[0m \u001b[1;32mnot\u001b[0m \u001b[1;32min\u001b[0m \u001b[0munique_items\u001b[0m\u001b[1;33m:\u001b[0m\u001b[1;33m\u001b[0m\u001b[1;33m\u001b[0m\u001b[0m\n\u001b[0m\u001b[0;32m     16\u001b[0m                     \u001b[0mWebDriverWait\u001b[0m\u001b[1;33m(\u001b[0m\u001b[0mdriver\u001b[0m\u001b[1;33m,\u001b[0m\u001b[1;36m40\u001b[0m\u001b[1;33m)\u001b[0m\u001b[1;33m\u001b[0m\u001b[1;33m\u001b[0m\u001b[0m\n\u001b[0;32m     17\u001b[0m                     \u001b[1;32myield\u001b[0m \u001b[0melement\u001b[0m\u001b[1;33m.\u001b[0m\u001b[0mtext\u001b[0m\u001b[1;33m\u001b[0m\u001b[1;33m\u001b[0m\u001b[0m\n",
      "\u001b[1;32m~\\anaconda3\\lib\\site-packages\\selenium\\webdriver\\remote\\webelement.py\u001b[0m in \u001b[0;36mtext\u001b[1;34m(self)\u001b[0m\n\u001b[0;32m     75\u001b[0m     \u001b[1;32mdef\u001b[0m \u001b[0mtext\u001b[0m\u001b[1;33m(\u001b[0m\u001b[0mself\u001b[0m\u001b[1;33m)\u001b[0m \u001b[1;33m->\u001b[0m \u001b[0mstr\u001b[0m\u001b[1;33m:\u001b[0m\u001b[1;33m\u001b[0m\u001b[1;33m\u001b[0m\u001b[0m\n\u001b[0;32m     76\u001b[0m         \u001b[1;34m\"\"\"The text of the element.\"\"\"\u001b[0m\u001b[1;33m\u001b[0m\u001b[1;33m\u001b[0m\u001b[0m\n\u001b[1;32m---> 77\u001b[1;33m         \u001b[1;32mreturn\u001b[0m \u001b[0mself\u001b[0m\u001b[1;33m.\u001b[0m\u001b[0m_execute\u001b[0m\u001b[1;33m(\u001b[0m\u001b[0mCommand\u001b[0m\u001b[1;33m.\u001b[0m\u001b[0mGET_ELEMENT_TEXT\u001b[0m\u001b[1;33m)\u001b[0m\u001b[1;33m[\u001b[0m\u001b[1;34m'value'\u001b[0m\u001b[1;33m]\u001b[0m\u001b[1;33m\u001b[0m\u001b[1;33m\u001b[0m\u001b[0m\n\u001b[0m\u001b[0;32m     78\u001b[0m \u001b[1;33m\u001b[0m\u001b[0m\n\u001b[0;32m     79\u001b[0m     \u001b[1;32mdef\u001b[0m \u001b[0mclick\u001b[0m\u001b[1;33m(\u001b[0m\u001b[0mself\u001b[0m\u001b[1;33m)\u001b[0m \u001b[1;33m->\u001b[0m \u001b[1;32mNone\u001b[0m\u001b[1;33m:\u001b[0m\u001b[1;33m\u001b[0m\u001b[1;33m\u001b[0m\u001b[0m\n",
      "\u001b[1;32m~\\anaconda3\\lib\\site-packages\\selenium\\webdriver\\remote\\webelement.py\u001b[0m in \u001b[0;36m_execute\u001b[1;34m(self, command, params)\u001b[0m\n\u001b[0;32m    708\u001b[0m             \u001b[0mparams\u001b[0m \u001b[1;33m=\u001b[0m \u001b[1;33m{\u001b[0m\u001b[1;33m}\u001b[0m\u001b[1;33m\u001b[0m\u001b[1;33m\u001b[0m\u001b[0m\n\u001b[0;32m    709\u001b[0m         \u001b[0mparams\u001b[0m\u001b[1;33m[\u001b[0m\u001b[1;34m'id'\u001b[0m\u001b[1;33m]\u001b[0m \u001b[1;33m=\u001b[0m \u001b[0mself\u001b[0m\u001b[1;33m.\u001b[0m\u001b[0m_id\u001b[0m\u001b[1;33m\u001b[0m\u001b[1;33m\u001b[0m\u001b[0m\n\u001b[1;32m--> 710\u001b[1;33m         \u001b[1;32mreturn\u001b[0m \u001b[0mself\u001b[0m\u001b[1;33m.\u001b[0m\u001b[0m_parent\u001b[0m\u001b[1;33m.\u001b[0m\u001b[0mexecute\u001b[0m\u001b[1;33m(\u001b[0m\u001b[0mcommand\u001b[0m\u001b[1;33m,\u001b[0m \u001b[0mparams\u001b[0m\u001b[1;33m)\u001b[0m\u001b[1;33m\u001b[0m\u001b[1;33m\u001b[0m\u001b[0m\n\u001b[0m\u001b[0;32m    711\u001b[0m \u001b[1;33m\u001b[0m\u001b[0m\n\u001b[0;32m    712\u001b[0m     \u001b[1;32mdef\u001b[0m \u001b[0mfind_element\u001b[0m\u001b[1;33m(\u001b[0m\u001b[0mself\u001b[0m\u001b[1;33m,\u001b[0m \u001b[0mby\u001b[0m\u001b[1;33m=\u001b[0m\u001b[0mBy\u001b[0m\u001b[1;33m.\u001b[0m\u001b[0mID\u001b[0m\u001b[1;33m,\u001b[0m \u001b[0mvalue\u001b[0m\u001b[1;33m=\u001b[0m\u001b[1;32mNone\u001b[0m\u001b[1;33m)\u001b[0m\u001b[1;33m:\u001b[0m\u001b[1;33m\u001b[0m\u001b[1;33m\u001b[0m\u001b[0m\n",
      "\u001b[1;32m~\\anaconda3\\lib\\site-packages\\selenium\\webdriver\\remote\\webdriver.py\u001b[0m in \u001b[0;36mexecute\u001b[1;34m(self, driver_command, params)\u001b[0m\n\u001b[0;32m    422\u001b[0m         \u001b[0mresponse\u001b[0m \u001b[1;33m=\u001b[0m \u001b[0mself\u001b[0m\u001b[1;33m.\u001b[0m\u001b[0mcommand_executor\u001b[0m\u001b[1;33m.\u001b[0m\u001b[0mexecute\u001b[0m\u001b[1;33m(\u001b[0m\u001b[0mdriver_command\u001b[0m\u001b[1;33m,\u001b[0m \u001b[0mparams\u001b[0m\u001b[1;33m)\u001b[0m\u001b[1;33m\u001b[0m\u001b[1;33m\u001b[0m\u001b[0m\n\u001b[0;32m    423\u001b[0m         \u001b[1;32mif\u001b[0m \u001b[0mresponse\u001b[0m\u001b[1;33m:\u001b[0m\u001b[1;33m\u001b[0m\u001b[1;33m\u001b[0m\u001b[0m\n\u001b[1;32m--> 424\u001b[1;33m             \u001b[0mself\u001b[0m\u001b[1;33m.\u001b[0m\u001b[0merror_handler\u001b[0m\u001b[1;33m.\u001b[0m\u001b[0mcheck_response\u001b[0m\u001b[1;33m(\u001b[0m\u001b[0mresponse\u001b[0m\u001b[1;33m)\u001b[0m\u001b[1;33m\u001b[0m\u001b[1;33m\u001b[0m\u001b[0m\n\u001b[0m\u001b[0;32m    425\u001b[0m             response['value'] = self._unwrap_value(\n\u001b[0;32m    426\u001b[0m                 response.get('value', None))\n",
      "\u001b[1;32m~\\anaconda3\\lib\\site-packages\\selenium\\webdriver\\remote\\errorhandler.py\u001b[0m in \u001b[0;36mcheck_response\u001b[1;34m(self, response)\u001b[0m\n\u001b[0;32m    245\u001b[0m                 \u001b[0malert_text\u001b[0m \u001b[1;33m=\u001b[0m \u001b[0mvalue\u001b[0m\u001b[1;33m[\u001b[0m\u001b[1;34m'alert'\u001b[0m\u001b[1;33m]\u001b[0m\u001b[1;33m.\u001b[0m\u001b[0mget\u001b[0m\u001b[1;33m(\u001b[0m\u001b[1;34m'text'\u001b[0m\u001b[1;33m)\u001b[0m\u001b[1;33m\u001b[0m\u001b[1;33m\u001b[0m\u001b[0m\n\u001b[0;32m    246\u001b[0m             \u001b[1;32mraise\u001b[0m \u001b[0mexception_class\u001b[0m\u001b[1;33m(\u001b[0m\u001b[0mmessage\u001b[0m\u001b[1;33m,\u001b[0m \u001b[0mscreen\u001b[0m\u001b[1;33m,\u001b[0m \u001b[0mstacktrace\u001b[0m\u001b[1;33m,\u001b[0m \u001b[0malert_text\u001b[0m\u001b[1;33m)\u001b[0m  \u001b[1;31m# type: ignore[call-arg]  # mypy is not smart enough here\u001b[0m\u001b[1;33m\u001b[0m\u001b[1;33m\u001b[0m\u001b[0m\n\u001b[1;32m--> 247\u001b[1;33m         \u001b[1;32mraise\u001b[0m \u001b[0mexception_class\u001b[0m\u001b[1;33m(\u001b[0m\u001b[0mmessage\u001b[0m\u001b[1;33m,\u001b[0m \u001b[0mscreen\u001b[0m\u001b[1;33m,\u001b[0m \u001b[0mstacktrace\u001b[0m\u001b[1;33m)\u001b[0m\u001b[1;33m\u001b[0m\u001b[1;33m\u001b[0m\u001b[0m\n\u001b[0m\u001b[0;32m    248\u001b[0m \u001b[1;33m\u001b[0m\u001b[0m\n\u001b[0;32m    249\u001b[0m     \u001b[1;32mdef\u001b[0m \u001b[0m_value_or_default\u001b[0m\u001b[1;33m(\u001b[0m\u001b[0mself\u001b[0m\u001b[1;33m,\u001b[0m \u001b[0mobj\u001b[0m\u001b[1;33m:\u001b[0m \u001b[0mMapping\u001b[0m\u001b[1;33m[\u001b[0m\u001b[0m_KT\u001b[0m\u001b[1;33m,\u001b[0m \u001b[0m_VT\u001b[0m\u001b[1;33m]\u001b[0m\u001b[1;33m,\u001b[0m \u001b[0mkey\u001b[0m\u001b[1;33m:\u001b[0m \u001b[0m_KT\u001b[0m\u001b[1;33m,\u001b[0m \u001b[0mdefault\u001b[0m\u001b[1;33m:\u001b[0m \u001b[0m_VT\u001b[0m\u001b[1;33m)\u001b[0m \u001b[1;33m->\u001b[0m \u001b[0m_VT\u001b[0m\u001b[1;33m:\u001b[0m\u001b[1;33m\u001b[0m\u001b[1;33m\u001b[0m\u001b[0m\n",
      "\u001b[1;31mStaleElementReferenceException\u001b[0m: Message: stale element reference: element is not attached to the page document\n  (Session info: chrome=97.0.4692.99)\nStacktrace:\nBacktrace:\n\tOrdinal0 [0x0097FDC3+2555331]\n\tOrdinal0 [0x009177F1+2127857]\n\tOrdinal0 [0x00812E08+1060360]\n\tOrdinal0 [0x00815524+1070372]\n\tOrdinal0 [0x008153EE+1070062]\n\tOrdinal0 [0x00815650+1070672]\n\tOrdinal0 [0x00839E40+1220160]\n\tOrdinal0 [0x00857B0C+1342220]\n\tOrdinal0 [0x00834984+1198468]\n\tOrdinal0 [0x00857C14+1342484]\n\tOrdinal0 [0x008675FA+1406458]\n\tOrdinal0 [0x00857976+1341814]\n\tOrdinal0 [0x008336B6+1193654]\n\tOrdinal0 [0x00834546+1197382]\n\tGetHandleVerifier [0x00B19622+1619522]\n\tGetHandleVerifier [0x00BC882C+2336844]\n\tGetHandleVerifier [0x00A123E1+541697]\n\tGetHandleVerifier [0x00A11443+537699]\n\tOrdinal0 [0x0091D18E+2150798]\n\tOrdinal0 [0x00921518+2168088]\n\tOrdinal0 [0x00921660+2168416]\n\tOrdinal0 [0x0092B330+2208560]\n\tBaseThreadInitThunk [0x76DC6739+25]\n\tRtlGetFullPathName_UEx [0x77B98AFF+1215]\n\tRtlGetFullPathName_UEx [0x77B98ACD+1165]\n"
     ]
    }
   ],
   "source": [
    "link = 'https://opensea.io/rankings?sortBy=total_volume'\n",
    "def get_collection_names(link):\n",
    "    driver.get(link)\n",
    "    unique_items = set()\n",
    "    while True:\n",
    "        lines = driver.find_elements(By.CLASS_NAME, value = 'styles__StyledLink-sc-l6elh8-0')\n",
    "        H = driver.execute_script('return document.body.scrollHeight;')\n",
    "        h = 0\n",
    "        while True :\n",
    "            h += 300\n",
    "            if h >= H :\n",
    "                break\n",
    "\n",
    "            for element in lines:\n",
    "                if element.text not in unique_items:\n",
    "                    WebDriverWait(driver,40)\n",
    "                    yield element.text\n",
    "                unique_items.add(element.text)\n",
    "            driver.execute_script(\"window.scrollTo(0, {});\".format(h))\n",
    "            time.sleep(1)\n",
    "\n",
    "        try:\n",
    "            button = WebDriverWait(driver,40).until(EC.presence_of_element_located((By.XPATH,\"//button[contains(@class,'Buttonreact__StyledButton')][./i[contains(.,'arrow_forward')]]\")))\n",
    "            driver.execute_script('arguments[0].click();',button)\n",
    "            WebDriverWait(driver,20).until(EC.staleness_of(lines))\n",
    "        except Exception as e:\n",
    "            return\n",
    "\n",
    "\n",
    "if __name__ == '__main__':\n",
    "    driver = webdriver.Chrome(\"C:\\\\Users\\\\brend\\\\chromedriver\\\\chromedriver_win32\\\\chromedriver.exe\")\n",
    "    for item in get_collection_names(link):\n",
    "        print(item)\n",
    "    driver.quit()"
   ]
  },
  {
   "cell_type": "code",
   "execution_count": null,
   "id": "ae669cd1",
   "metadata": {},
   "outputs": [],
   "source": [
    "driver."
   ]
  },
  {
   "cell_type": "code",
   "execution_count": null,
   "id": "abbfe51f",
   "metadata": {},
   "outputs": [],
   "source": [
    "nft_elements = driver.find_elements_by_xpath(\"//div[@role='listitem']\")\n",
    "for element in nft_elements:\n",
    "    #here you have to extract the data you need, don't copy paste this code, you need to implement it+\n",
    "    nft_name = element.get_attribute(\"name\") #there is no such attribute, lets just use it as a dummy\n",
    "    u_nfts.append(nft_name)\n",
    "\n",
    "# scroll to the last element located so the browser can generate new elements if there is any\n",
    "driver.execute_script(\"arguments[0].scrollIntoView();\", nft_elements[-1])"
   ]
  },
  {
   "cell_type": "code",
   "execution_count": 80,
   "id": "f9342691",
   "metadata": {},
   "outputs": [
    {
     "name": "stderr",
     "output_type": "stream",
     "text": [
      "<ipython-input-80-9dc37bb55eae>:7: DeprecationWarning: executable_path has been deprecated, please pass in a Service object\n",
      "  driver = webdriver.Chrome(\"C:\\\\Users\\\\brend\\\\chromedriver\\\\chromedriver_win32\\\\chromedriver.exe\")\n"
     ]
    },
    {
     "name": "stdout",
     "output_type": "stream",
     "text": [
      "Top NFTs | OpenSea\n"
     ]
    },
    {
     "data": {
      "text/plain": [
       "['decentraland-wearables',\n",
       " 'lootproject',\n",
       " 'cryptokitties',\n",
       " 'clonex',\n",
       " 'cool-cats-nft',\n",
       " 'meebits',\n",
       " 'art-blocks',\n",
       " 'sandbox',\n",
       " 'rarible',\n",
       " 'mutant-ape-yacht-club',\n",
       " 'boredapeyachtclub',\n",
       " 'decentraland',\n",
       " 'cryptopunks']"
      ]
     },
     "execution_count": 80,
     "metadata": {},
     "output_type": "execute_result"
    }
   ],
   "source": [
    "from selenium import webdriver\n",
    "\n",
    "import time\n",
    "from selenium.webdriver.common.by import By\n",
    "from selenium.webdriver.support.ui import WebDriverWait\n",
    "\n",
    "driver = webdriver.Chrome(\"C:\\\\Users\\\\brend\\\\chromedriver\\\\chromedriver_win32\\\\chromedriver.exe\")\n",
    "\n",
    "driver.get('https://opensea.io/rankings?sortBy=total_volume')\n",
    "\n",
    "#lines =  driver.find_elements_by_xpath(\"//a[@class='styles__StyledLink-sc-l6elh8-0']\")\n",
    "lines = driver.find_elements(By.CLASS_NAME, value = 'styles__StyledLink-sc-l6elh8-0')\n",
    "url_lst = [a.get_attribute('href') for a in lines]\n",
    "\n",
    "\n",
    "\n",
    "\n",
    "print(driver.title)\n",
    "\n",
    "driver.quit()\n",
    "\n",
    "url_list = url_lst[2:]\n",
    "split = [i.split(\"/\")for i in url_list]\n",
    "collection_names = [i[-1] for i in split]\n",
    "            \n",
    "collection_names\n",
    "\n"
   ]
  },
  {
   "cell_type": "code",
   "execution_count": 44,
   "id": "cc85b5a1",
   "metadata": {
    "scrolled": true
   },
   "outputs": [
    {
     "ename": "IndentationError",
     "evalue": "expected an indented block (<ipython-input-44-f633ae34ac7c>, line 38)",
     "output_type": "error",
     "traceback": [
      "\u001b[1;36m  File \u001b[1;32m\"<ipython-input-44-f633ae34ac7c>\"\u001b[1;36m, line \u001b[1;32m38\u001b[0m\n\u001b[1;33m    return\u001b[0m\n\u001b[1;37m           ^\u001b[0m\n\u001b[1;31mIndentationError\u001b[0m\u001b[1;31m:\u001b[0m expected an indented block\n"
     ]
    }
   ],
   "source": [
    "import requests\n",
    "from selenium import webdriver\n",
    "\n",
    "import time\n",
    "from selenium.webdriver.common.by import By\n",
    "from selenium.webdriver.support.ui import WebDriverWait\n",
    "nft_list = []\n",
    "driver = webdriver.Chrome(\"C:\\\\Users\\\\brend\\\\chromedriver\\\\chromedriver_win32\\\\chromedriver.exe\")\n",
    "\n",
    "while True:\n",
    "    driver.get('https://opensea.io/rankings?sortBy=total_volume')\n",
    "#driver.set_window_size(1920, 10000)\n",
    "    time.sleep(2)\n",
    "#WebDriverWait(driver,5)\n",
    "    #lines = driver.find_elements(By.CLASS_NAME, value = 'styles__StyledLink-sc-l6elh8-0')\n",
    "    lines =  driver.find_elements_by_xpath(\"//a[@class='styles__StyledLink-sc-l6elh8-0']\")\n",
    "    time.sleep(1)\n",
    "    a = driver.execute_script('return document.body.scrollHeight;')\n",
    "    b= 0\n",
    "    while True:\n",
    "        b += 100\n",
    "        if b >= a:\n",
    "            break\n",
    "\n",
    "        time.sleep(2)\n",
    "        for i in lines:\n",
    "            url_lst = [a.get_attribute('href') for a in lines]\n",
    "            if i.text not in nft_list:\n",
    "                nft_list.append(url_lst)\n",
    "        driver.execute_script(\"window.scrollTo(0, {});\".format(h))\n",
    "\n",
    "     \n",
    "    try:\n",
    "        button = WebDriverWait(driver,10).until(EC.presence_of_element_located((By.XPATH,\"//button[contains(@class,'Buttonreact__StyledButton')][./i[contains(.,'arrow_forward')]]\")))\n",
    "        driver.execute_script('arguments[0].click();',button)\n",
    "        WebDriverWait(driver,10).until(EC.staleness_of(item))\n",
    "    except Exception as e:\n",
    "return \n",
    "        \n",
    "   \n",
    "    \n",
    "#nft_set[1] + nft_set[2] +nft_set[3]\n",
    "\n",
    "for i in range(len(url_lst)):\n",
    "     print(url_lst[i])\n",
    "\n",
    "\n",
    "print(driver.title)\n",
    "\n",
    "driver.quit()\n",
    "\n",
    "url_list = url_lst[2:]\n",
    "split = [i.split(\"/\")for i in url_list]\n",
    "collection_names = [i[-1] for i in split]\n"
   ]
  },
  {
   "cell_type": "code",
   "execution_count": 57,
   "id": "d8e72ac0",
   "metadata": {},
   "outputs": [
    {
     "name": "stderr",
     "output_type": "stream",
     "text": [
      "<ipython-input-57-dbba1c646f23>:2: DeprecationWarning: executable_path has been deprecated, please pass in a Service object\n",
      "  driver = webdriver.Chrome(\"C:\\\\Users\\\\brend\\\\chromedriver\\\\chromedriver_win32\\\\chromedriver.exe\")\n",
      "<ipython-input-57-dbba1c646f23>:4: DeprecationWarning: find_elements_by_* commands are deprecated. Please use find_elements() instead\n",
      "  lines =  driver.find_elements_by_xpath(\"//a[@class='styles__StyledLink-sc-l6elh8-0 ekTmzq Blockreact__Block-sc-1xf18x6-0 Flexreact__Flex-sc-1twd32i-0 Itemreact__ItemBase-sc-1idymv7-0 fBcBFY jYqxGr dCVDRE fresnel-lessThan-xl']\")\n"
     ]
    },
    {
     "ename": "JavascriptException",
     "evalue": "Message: javascript error: arguments[0].scrollIntoView is not a function\n  (Session info: chrome=97.0.4692.99)\nStacktrace:\nBacktrace:\n\tOrdinal0 [0x0097FDC3+2555331]\n\tOrdinal0 [0x009177F1+2127857]\n\tOrdinal0 [0x00812E08+1060360]\n\tOrdinal0 [0x00815524+1070372]\n\tOrdinal0 [0x008153EE+1070062]\n\tOrdinal0 [0x00815C9A+1072282]\n\tOrdinal0 [0x00867F39+1408825]\n\tOrdinal0 [0x00857B0C+1342220]\n\tOrdinal0 [0x008675FA+1406458]\n\tOrdinal0 [0x00857976+1341814]\n\tOrdinal0 [0x008336B6+1193654]\n\tOrdinal0 [0x00834546+1197382]\n\tGetHandleVerifier [0x00B19622+1619522]\n\tGetHandleVerifier [0x00BC882C+2336844]\n\tGetHandleVerifier [0x00A123E1+541697]\n\tGetHandleVerifier [0x00A11443+537699]\n\tOrdinal0 [0x0091D18E+2150798]\n\tOrdinal0 [0x00921518+2168088]\n\tOrdinal0 [0x00921660+2168416]\n\tOrdinal0 [0x0092B330+2208560]\n\tBaseThreadInitThunk [0x76DC6739+25]\n\tRtlGetFullPathName_UEx [0x77B98AFF+1215]\n\tRtlGetFullPathName_UEx [0x77B98ACD+1165]\n",
     "output_type": "error",
     "traceback": [
      "\u001b[1;31m---------------------------------------------------------------------------\u001b[0m",
      "\u001b[1;31mJavascriptException\u001b[0m                       Traceback (most recent call last)",
      "\u001b[1;32m<ipython-input-57-dbba1c646f23>\u001b[0m in \u001b[0;36m<module>\u001b[1;34m\u001b[0m\n\u001b[0;32m     10\u001b[0m \u001b[1;32mfor\u001b[0m \u001b[0mi\u001b[0m \u001b[1;32min\u001b[0m \u001b[0mlines\u001b[0m\u001b[1;33m:\u001b[0m\u001b[1;33m\u001b[0m\u001b[1;33m\u001b[0m\u001b[0m\n\u001b[0;32m     11\u001b[0m     \u001b[0murl_lst\u001b[0m \u001b[1;33m=\u001b[0m \u001b[0mi\u001b[0m\u001b[1;33m.\u001b[0m\u001b[0mget_attribute\u001b[0m\u001b[1;33m(\u001b[0m\u001b[1;34m'href'\u001b[0m\u001b[1;33m)\u001b[0m\u001b[1;33m\u001b[0m\u001b[1;33m\u001b[0m\u001b[0m\n\u001b[1;32m---> 12\u001b[1;33m     \u001b[0mdriver\u001b[0m\u001b[1;33m.\u001b[0m\u001b[0mexecute_script\u001b[0m\u001b[1;33m(\u001b[0m\u001b[1;34m\"arguments[0].scrollIntoView();\"\u001b[0m\u001b[1;33m,\u001b[0m \u001b[0murl_lst\u001b[0m\u001b[1;33m[\u001b[0m\u001b[1;33m-\u001b[0m\u001b[1;36m1\u001b[0m\u001b[1;33m]\u001b[0m\u001b[1;33m)\u001b[0m\u001b[1;33m\u001b[0m\u001b[1;33m\u001b[0m\u001b[0m\n\u001b[0m\u001b[0;32m     13\u001b[0m \u001b[1;33m\u001b[0m\u001b[0m\n\u001b[0;32m     14\u001b[0m \u001b[1;33m\u001b[0m\u001b[0m\n",
      "\u001b[1;32m~\\anaconda3\\lib\\site-packages\\selenium\\webdriver\\remote\\webdriver.py\u001b[0m in \u001b[0;36mexecute_script\u001b[1;34m(self, script, *args)\u001b[0m\n\u001b[0;32m    876\u001b[0m         \u001b[0mcommand\u001b[0m \u001b[1;33m=\u001b[0m \u001b[0mCommand\u001b[0m\u001b[1;33m.\u001b[0m\u001b[0mW3C_EXECUTE_SCRIPT\u001b[0m\u001b[1;33m\u001b[0m\u001b[1;33m\u001b[0m\u001b[0m\n\u001b[0;32m    877\u001b[0m \u001b[1;33m\u001b[0m\u001b[0m\n\u001b[1;32m--> 878\u001b[1;33m         return self.execute(command, {\n\u001b[0m\u001b[0;32m    879\u001b[0m             \u001b[1;34m'script'\u001b[0m\u001b[1;33m:\u001b[0m \u001b[0mscript\u001b[0m\u001b[1;33m,\u001b[0m\u001b[1;33m\u001b[0m\u001b[1;33m\u001b[0m\u001b[0m\n\u001b[0;32m    880\u001b[0m             'args': converted_args})['value']\n",
      "\u001b[1;32m~\\anaconda3\\lib\\site-packages\\selenium\\webdriver\\remote\\webdriver.py\u001b[0m in \u001b[0;36mexecute\u001b[1;34m(self, driver_command, params)\u001b[0m\n\u001b[0;32m    422\u001b[0m         \u001b[0mresponse\u001b[0m \u001b[1;33m=\u001b[0m \u001b[0mself\u001b[0m\u001b[1;33m.\u001b[0m\u001b[0mcommand_executor\u001b[0m\u001b[1;33m.\u001b[0m\u001b[0mexecute\u001b[0m\u001b[1;33m(\u001b[0m\u001b[0mdriver_command\u001b[0m\u001b[1;33m,\u001b[0m \u001b[0mparams\u001b[0m\u001b[1;33m)\u001b[0m\u001b[1;33m\u001b[0m\u001b[1;33m\u001b[0m\u001b[0m\n\u001b[0;32m    423\u001b[0m         \u001b[1;32mif\u001b[0m \u001b[0mresponse\u001b[0m\u001b[1;33m:\u001b[0m\u001b[1;33m\u001b[0m\u001b[1;33m\u001b[0m\u001b[0m\n\u001b[1;32m--> 424\u001b[1;33m             \u001b[0mself\u001b[0m\u001b[1;33m.\u001b[0m\u001b[0merror_handler\u001b[0m\u001b[1;33m.\u001b[0m\u001b[0mcheck_response\u001b[0m\u001b[1;33m(\u001b[0m\u001b[0mresponse\u001b[0m\u001b[1;33m)\u001b[0m\u001b[1;33m\u001b[0m\u001b[1;33m\u001b[0m\u001b[0m\n\u001b[0m\u001b[0;32m    425\u001b[0m             response['value'] = self._unwrap_value(\n\u001b[0;32m    426\u001b[0m                 response.get('value', None))\n",
      "\u001b[1;32m~\\anaconda3\\lib\\site-packages\\selenium\\webdriver\\remote\\errorhandler.py\u001b[0m in \u001b[0;36mcheck_response\u001b[1;34m(self, response)\u001b[0m\n\u001b[0;32m    245\u001b[0m                 \u001b[0malert_text\u001b[0m \u001b[1;33m=\u001b[0m \u001b[0mvalue\u001b[0m\u001b[1;33m[\u001b[0m\u001b[1;34m'alert'\u001b[0m\u001b[1;33m]\u001b[0m\u001b[1;33m.\u001b[0m\u001b[0mget\u001b[0m\u001b[1;33m(\u001b[0m\u001b[1;34m'text'\u001b[0m\u001b[1;33m)\u001b[0m\u001b[1;33m\u001b[0m\u001b[1;33m\u001b[0m\u001b[0m\n\u001b[0;32m    246\u001b[0m             \u001b[1;32mraise\u001b[0m \u001b[0mexception_class\u001b[0m\u001b[1;33m(\u001b[0m\u001b[0mmessage\u001b[0m\u001b[1;33m,\u001b[0m \u001b[0mscreen\u001b[0m\u001b[1;33m,\u001b[0m \u001b[0mstacktrace\u001b[0m\u001b[1;33m,\u001b[0m \u001b[0malert_text\u001b[0m\u001b[1;33m)\u001b[0m  \u001b[1;31m# type: ignore[call-arg]  # mypy is not smart enough here\u001b[0m\u001b[1;33m\u001b[0m\u001b[1;33m\u001b[0m\u001b[0m\n\u001b[1;32m--> 247\u001b[1;33m         \u001b[1;32mraise\u001b[0m \u001b[0mexception_class\u001b[0m\u001b[1;33m(\u001b[0m\u001b[0mmessage\u001b[0m\u001b[1;33m,\u001b[0m \u001b[0mscreen\u001b[0m\u001b[1;33m,\u001b[0m \u001b[0mstacktrace\u001b[0m\u001b[1;33m)\u001b[0m\u001b[1;33m\u001b[0m\u001b[1;33m\u001b[0m\u001b[0m\n\u001b[0m\u001b[0;32m    248\u001b[0m \u001b[1;33m\u001b[0m\u001b[0m\n\u001b[0;32m    249\u001b[0m     \u001b[1;32mdef\u001b[0m \u001b[0m_value_or_default\u001b[0m\u001b[1;33m(\u001b[0m\u001b[0mself\u001b[0m\u001b[1;33m,\u001b[0m \u001b[0mobj\u001b[0m\u001b[1;33m:\u001b[0m \u001b[0mMapping\u001b[0m\u001b[1;33m[\u001b[0m\u001b[0m_KT\u001b[0m\u001b[1;33m,\u001b[0m \u001b[0m_VT\u001b[0m\u001b[1;33m]\u001b[0m\u001b[1;33m,\u001b[0m \u001b[0mkey\u001b[0m\u001b[1;33m:\u001b[0m \u001b[0m_KT\u001b[0m\u001b[1;33m,\u001b[0m \u001b[0mdefault\u001b[0m\u001b[1;33m:\u001b[0m \u001b[0m_VT\u001b[0m\u001b[1;33m)\u001b[0m \u001b[1;33m->\u001b[0m \u001b[0m_VT\u001b[0m\u001b[1;33m:\u001b[0m\u001b[1;33m\u001b[0m\u001b[1;33m\u001b[0m\u001b[0m\n",
      "\u001b[1;31mJavascriptException\u001b[0m: Message: javascript error: arguments[0].scrollIntoView is not a function\n  (Session info: chrome=97.0.4692.99)\nStacktrace:\nBacktrace:\n\tOrdinal0 [0x0097FDC3+2555331]\n\tOrdinal0 [0x009177F1+2127857]\n\tOrdinal0 [0x00812E08+1060360]\n\tOrdinal0 [0x00815524+1070372]\n\tOrdinal0 [0x008153EE+1070062]\n\tOrdinal0 [0x00815C9A+1072282]\n\tOrdinal0 [0x00867F39+1408825]\n\tOrdinal0 [0x00857B0C+1342220]\n\tOrdinal0 [0x008675FA+1406458]\n\tOrdinal0 [0x00857976+1341814]\n\tOrdinal0 [0x008336B6+1193654]\n\tOrdinal0 [0x00834546+1197382]\n\tGetHandleVerifier [0x00B19622+1619522]\n\tGetHandleVerifier [0x00BC882C+2336844]\n\tGetHandleVerifier [0x00A123E1+541697]\n\tGetHandleVerifier [0x00A11443+537699]\n\tOrdinal0 [0x0091D18E+2150798]\n\tOrdinal0 [0x00921518+2168088]\n\tOrdinal0 [0x00921660+2168416]\n\tOrdinal0 [0x0092B330+2208560]\n\tBaseThreadInitThunk [0x76DC6739+25]\n\tRtlGetFullPathName_UEx [0x77B98AFF+1215]\n\tRtlGetFullPathName_UEx [0x77B98ACD+1165]\n"
     ]
    }
   ],
   "source": [
    "nft_list = []\n",
    "driver = webdriver.Chrome(\"C:\\\\Users\\\\brend\\\\chromedriver\\\\chromedriver_win32\\\\chromedriver.exe\")\n",
    "driver.get('https://opensea.io/rankings?sortBy=total_volume')\n",
    "lines =  driver.find_elements_by_xpath(\"//a[@class='styles__StyledLink-sc-l6elh8-0 ekTmzq Blockreact__Block-sc-1xf18x6-0 Flexreact__Flex-sc-1twd32i-0 Itemreact__ItemBase-sc-1idymv7-0 fBcBFY jYqxGr dCVDRE fresnel-lessThan-xl']\") \n",
    "a = driver.execute_script('return document.body.scrollHeight;')\n",
    "b= 0\n",
    "\n",
    "#driver.execute_script(\"arguments[0].scrollIntoView();\", nft_elements[-1])  \n",
    " \n",
    "for i in lines:\n",
    "    url_lst = i.get_attribute('href')\n",
    "    driver.execute_script(\"arguments[0].scrollIntoView();\", url_lst[-1]) \n",
    "\n",
    "\n",
    "\n",
    "\n",
    "\n",
    "\n",
    "\n",
    "for i in url_list:\n",
    "    if i not in nft_list:\n",
    "        nft_list.append(url_lst)\n",
    "    \n",
    "    \n",
    "nft_list   "
   ]
  },
  {
   "cell_type": "code",
   "execution_count": 25,
   "id": "79d65525",
   "metadata": {},
   "outputs": [
    {
     "data": {
      "text/plain": [
       "[<selenium.webdriver.remote.webelement.WebElement (session=\"df48c4948509652f1430c225e938ba6b\", element=\"dac84698-dc38-43be-af1f-c2f5fa5ef5b3\")>,\n",
       " <selenium.webdriver.remote.webelement.WebElement (session=\"df48c4948509652f1430c225e938ba6b\", element=\"1176e84c-b51c-4f9f-97e8-7e0ff2c52543\")>,\n",
       " <selenium.webdriver.remote.webelement.WebElement (session=\"df48c4948509652f1430c225e938ba6b\", element=\"20bef620-d6a2-4f1a-b599-6f7d761bef4b\")>,\n",
       " <selenium.webdriver.remote.webelement.WebElement (session=\"df48c4948509652f1430c225e938ba6b\", element=\"241cd098-181d-4963-9be8-98d3f2a05677\")>,\n",
       " <selenium.webdriver.remote.webelement.WebElement (session=\"df48c4948509652f1430c225e938ba6b\", element=\"44475295-b5d7-45a4-afaf-7ef0dc7c21a4\")>,\n",
       " <selenium.webdriver.remote.webelement.WebElement (session=\"df48c4948509652f1430c225e938ba6b\", element=\"c35b6827-0fa8-4fae-9a37-67c67620a182\")>,\n",
       " <selenium.webdriver.remote.webelement.WebElement (session=\"df48c4948509652f1430c225e938ba6b\", element=\"aa8496a8-386a-4c53-ab0c-a692542c5c17\")>,\n",
       " <selenium.webdriver.remote.webelement.WebElement (session=\"df48c4948509652f1430c225e938ba6b\", element=\"3d3f16cb-4b65-467a-a096-bb392f5af7a0\")>,\n",
       " <selenium.webdriver.remote.webelement.WebElement (session=\"df48c4948509652f1430c225e938ba6b\", element=\"65f454b7-36a1-4632-80cb-777b28eacaca\")>,\n",
       " <selenium.webdriver.remote.webelement.WebElement (session=\"df48c4948509652f1430c225e938ba6b\", element=\"3d9015ca-ba5f-44d9-bb3c-7fc3bff2ac42\")>,\n",
       " <selenium.webdriver.remote.webelement.WebElement (session=\"df48c4948509652f1430c225e938ba6b\", element=\"9ced2a47-c325-4361-b9b5-6b8f2a50936f\")>,\n",
       " <selenium.webdriver.remote.webelement.WebElement (session=\"df48c4948509652f1430c225e938ba6b\", element=\"55f21f29-756b-4530-b37c-91823b8022d6\")>,\n",
       " <selenium.webdriver.remote.webelement.WebElement (session=\"df48c4948509652f1430c225e938ba6b\", element=\"7ba632ae-08ce-45ef-adc4-619456f3e820\")>,\n",
       " <selenium.webdriver.remote.webelement.WebElement (session=\"df48c4948509652f1430c225e938ba6b\", element=\"7d3653ba-c06a-437d-b8a1-2714c142594b\")>,\n",
       " <selenium.webdriver.remote.webelement.WebElement (session=\"df48c4948509652f1430c225e938ba6b\", element=\"1f2c4c69-a3c2-46d9-9f82-13ba0165362f\")>,\n",
       " <selenium.webdriver.remote.webelement.WebElement (session=\"df48c4948509652f1430c225e938ba6b\", element=\"fb352c75-e525-414e-9a01-001679f63959\")>,\n",
       " <selenium.webdriver.remote.webelement.WebElement (session=\"df48c4948509652f1430c225e938ba6b\", element=\"2cbc4573-cf77-44e6-a3b0-39e6c6a5b06a\")>,\n",
       " <selenium.webdriver.remote.webelement.WebElement (session=\"df48c4948509652f1430c225e938ba6b\", element=\"c833a2a9-62bb-4a50-aa99-a281386670ce\")>,\n",
       " <selenium.webdriver.remote.webelement.WebElement (session=\"df48c4948509652f1430c225e938ba6b\", element=\"c9c80978-a02e-4746-830e-6ac660efab0c\")>,\n",
       " <selenium.webdriver.remote.webelement.WebElement (session=\"df48c4948509652f1430c225e938ba6b\", element=\"377627d1-05f5-40be-bbb6-e328af01fd93\")>,\n",
       " <selenium.webdriver.remote.webelement.WebElement (session=\"df48c4948509652f1430c225e938ba6b\", element=\"a3261540-c5cf-4e6b-b3b2-cef83e6d943f\")>,\n",
       " <selenium.webdriver.remote.webelement.WebElement (session=\"df48c4948509652f1430c225e938ba6b\", element=\"32381d60-78bc-42d4-8aa5-1f4b2a0ac3dd\")>]"
      ]
     },
     "execution_count": 25,
     "metadata": {},
     "output_type": "execute_result"
    }
   ],
   "source": [
    "lines"
   ]
  },
  {
   "cell_type": "code",
   "execution_count": 22,
   "id": "9ca6237b",
   "metadata": {},
   "outputs": [
    {
     "data": {
      "text/plain": [
       "['nft-worlds',\n",
       " 'fragments-of-an-infinite-field-by-monica-rizzolli',\n",
       " 'the-sevens-official',\n",
       " 'ens',\n",
       " 'oxyaoriginproject',\n",
       " 'treeverse',\n",
       " 'thehumanoids',\n",
       " 'c-01-official-collection',\n",
       " 'robotos-official',\n",
       " 'cryptobatz-by-ozzy-osbourne',\n",
       " 'koala-intelligence-agency',\n",
       " 'wolf-game',\n",
       " 'neo-tokyo-identities',\n",
       " 'adam-bomb-squad',\n",
       " 'anonymice',\n",
       " 'lil-heroes-by-edgar-plans',\n",
       " 'galaxyeggs9999',\n",
       " 'mirandus',\n",
       " 'bears-deluxe-old',\n",
       " 'capsulehouse']"
      ]
     },
     "execution_count": 22,
     "metadata": {},
     "output_type": "execute_result"
    }
   ],
   "source": [
    "collection_names"
   ]
  },
  {
   "cell_type": "code",
   "execution_count": 13,
   "id": "ee12a50e",
   "metadata": {},
   "outputs": [],
   "source": [
    "from selenium.webdriver.support import expected_conditions as EC\n",
    "link ='https://opensea.io/rankings?sortBy=total_volume'"
   ]
  },
  {
   "cell_type": "code",
   "execution_count": 23,
   "id": "489903f3",
   "metadata": {},
   "outputs": [
    {
     "name": "stderr",
     "output_type": "stream",
     "text": [
      "<ipython-input-23-ad9e867f907a>:32: DeprecationWarning: executable_path has been deprecated, please pass in a Service object\n",
      "  driver = webdriver.Chrome(\"C:\\\\Users\\\\brend\\\\chromedriver\\\\chromedriver_win32\\\\chromedriver.exe\")\n"
     ]
    },
    {
     "ename": "TimeoutException",
     "evalue": "Message: \nStacktrace:\nBacktrace:\n\tOrdinal0 [0x0097FDC3+2555331]\n\tOrdinal0 [0x009177F1+2127857]\n\tOrdinal0 [0x00812E08+1060360]\n\tOrdinal0 [0x0083E49E+1238174]\n\tOrdinal0 [0x0083E69B+1238683]\n\tOrdinal0 [0x00869252+1413714]\n\tOrdinal0 [0x00857B54+1342292]\n\tOrdinal0 [0x008675FA+1406458]\n\tOrdinal0 [0x00857976+1341814]\n\tOrdinal0 [0x008336B6+1193654]\n\tOrdinal0 [0x00834546+1197382]\n\tGetHandleVerifier [0x00B19622+1619522]\n\tGetHandleVerifier [0x00BC882C+2336844]\n\tGetHandleVerifier [0x00A123E1+541697]\n\tGetHandleVerifier [0x00A11443+537699]\n\tOrdinal0 [0x0091D18E+2150798]\n\tOrdinal0 [0x00921518+2168088]\n\tOrdinal0 [0x00921660+2168416]\n\tOrdinal0 [0x0092B330+2208560]\n\tBaseThreadInitThunk [0x76DC6739+25]\n\tRtlGetFullPathName_UEx [0x77B98AFF+1215]\n\tRtlGetFullPathName_UEx [0x77B98ACD+1165]\n",
     "output_type": "error",
     "traceback": [
      "\u001b[1;31m---------------------------------------------------------------------------\u001b[0m",
      "\u001b[1;31mTimeoutException\u001b[0m                          Traceback (most recent call last)",
      "\u001b[1;32m<ipython-input-23-ad9e867f907a>\u001b[0m in \u001b[0;36m<module>\u001b[1;34m\u001b[0m\n\u001b[0;32m     31\u001b[0m \u001b[1;32mif\u001b[0m \u001b[0m__name__\u001b[0m \u001b[1;33m==\u001b[0m \u001b[1;34m'__main__'\u001b[0m\u001b[1;33m:\u001b[0m\u001b[1;33m\u001b[0m\u001b[1;33m\u001b[0m\u001b[0m\n\u001b[0;32m     32\u001b[0m     \u001b[0mdriver\u001b[0m \u001b[1;33m=\u001b[0m \u001b[0mwebdriver\u001b[0m\u001b[1;33m.\u001b[0m\u001b[0mChrome\u001b[0m\u001b[1;33m(\u001b[0m\u001b[1;34m\"C:\\\\Users\\\\brend\\\\chromedriver\\\\chromedriver_win32\\\\chromedriver.exe\"\u001b[0m\u001b[1;33m)\u001b[0m\u001b[1;33m\u001b[0m\u001b[1;33m\u001b[0m\u001b[0m\n\u001b[1;32m---> 33\u001b[1;33m     \u001b[1;32mfor\u001b[0m \u001b[0mitem\u001b[0m \u001b[1;32min\u001b[0m \u001b[0mget_collection_names\u001b[0m\u001b[1;33m(\u001b[0m\u001b[0mlink\u001b[0m\u001b[1;33m)\u001b[0m\u001b[1;33m:\u001b[0m\u001b[1;33m\u001b[0m\u001b[1;33m\u001b[0m\u001b[0m\n\u001b[0m\u001b[0;32m     34\u001b[0m         \u001b[0mprint\u001b[0m\u001b[1;33m(\u001b[0m\u001b[0mitem\u001b[0m\u001b[1;33m)\u001b[0m\u001b[1;33m\u001b[0m\u001b[1;33m\u001b[0m\u001b[0m\n\u001b[0;32m     35\u001b[0m     \u001b[0mdriver\u001b[0m\u001b[1;33m.\u001b[0m\u001b[0mquit\u001b[0m\u001b[1;33m(\u001b[0m\u001b[1;33m)\u001b[0m\u001b[1;33m\u001b[0m\u001b[1;33m\u001b[0m\u001b[0m\n",
      "\u001b[1;32m<ipython-input-23-ad9e867f907a>\u001b[0m in \u001b[0;36mget_collection_names\u001b[1;34m(link)\u001b[0m\n\u001b[0;32m      4\u001b[0m     \u001b[1;32mwhile\u001b[0m \u001b[1;32mTrue\u001b[0m\u001b[1;33m:\u001b[0m\u001b[1;33m\u001b[0m\u001b[1;33m\u001b[0m\u001b[0m\n\u001b[0;32m      5\u001b[0m         \u001b[1;31m# located elements on url page\u001b[0m\u001b[1;33m\u001b[0m\u001b[1;33m\u001b[0m\u001b[1;33m\u001b[0m\u001b[0m\n\u001b[1;32m----> 6\u001b[1;33m         \u001b[0mitem\u001b[0m \u001b[1;33m=\u001b[0m \u001b[0mWebDriverWait\u001b[0m\u001b[1;33m(\u001b[0m\u001b[0mdriver\u001b[0m\u001b[1;33m,\u001b[0m\u001b[1;36m20\u001b[0m\u001b[1;33m)\u001b[0m\u001b[1;33m.\u001b[0m\u001b[0muntil\u001b[0m\u001b[1;33m(\u001b[0m\u001b[0mEC\u001b[0m\u001b[1;33m.\u001b[0m\u001b[0mpresence_of_element_located\u001b[0m\u001b[1;33m(\u001b[0m\u001b[1;33m(\u001b[0m\u001b[0mBy\u001b[0m\u001b[1;33m.\u001b[0m\u001b[0mCSS_SELECTOR\u001b[0m\u001b[1;33m,\u001b[0m\u001b[1;34m\"[class$='Ranking--collection-name']\"\u001b[0m\u001b[1;33m)\u001b[0m\u001b[1;33m)\u001b[0m\u001b[1;33m)\u001b[0m\u001b[1;33m\u001b[0m\u001b[1;33m\u001b[0m\u001b[0m\n\u001b[0m\u001b[0;32m      7\u001b[0m         \u001b[1;31m# assigning length of scroll to H\u001b[0m\u001b[1;33m\u001b[0m\u001b[1;33m\u001b[0m\u001b[1;33m\u001b[0m\u001b[0m\n\u001b[0;32m      8\u001b[0m         \u001b[0mH\u001b[0m \u001b[1;33m=\u001b[0m \u001b[0mdriver\u001b[0m\u001b[1;33m.\u001b[0m\u001b[0mexecute_script\u001b[0m\u001b[1;33m(\u001b[0m\u001b[1;34m'return document.body.scrollHeight;'\u001b[0m\u001b[1;33m)\u001b[0m\u001b[1;33m\u001b[0m\u001b[1;33m\u001b[0m\u001b[0m\n",
      "\u001b[1;32m~\\anaconda3\\lib\\site-packages\\selenium\\webdriver\\support\\wait.py\u001b[0m in \u001b[0;36muntil\u001b[1;34m(self, method, message)\u001b[0m\n\u001b[0;32m     87\u001b[0m             \u001b[1;32mif\u001b[0m \u001b[0mtime\u001b[0m\u001b[1;33m.\u001b[0m\u001b[0mtime\u001b[0m\u001b[1;33m(\u001b[0m\u001b[1;33m)\u001b[0m \u001b[1;33m>\u001b[0m \u001b[0mend_time\u001b[0m\u001b[1;33m:\u001b[0m\u001b[1;33m\u001b[0m\u001b[1;33m\u001b[0m\u001b[0m\n\u001b[0;32m     88\u001b[0m                 \u001b[1;32mbreak\u001b[0m\u001b[1;33m\u001b[0m\u001b[1;33m\u001b[0m\u001b[0m\n\u001b[1;32m---> 89\u001b[1;33m         \u001b[1;32mraise\u001b[0m \u001b[0mTimeoutException\u001b[0m\u001b[1;33m(\u001b[0m\u001b[0mmessage\u001b[0m\u001b[1;33m,\u001b[0m \u001b[0mscreen\u001b[0m\u001b[1;33m,\u001b[0m \u001b[0mstacktrace\u001b[0m\u001b[1;33m)\u001b[0m\u001b[1;33m\u001b[0m\u001b[1;33m\u001b[0m\u001b[0m\n\u001b[0m\u001b[0;32m     90\u001b[0m \u001b[1;33m\u001b[0m\u001b[0m\n\u001b[0;32m     91\u001b[0m     \u001b[1;32mdef\u001b[0m \u001b[0muntil_not\u001b[0m\u001b[1;33m(\u001b[0m\u001b[0mself\u001b[0m\u001b[1;33m,\u001b[0m \u001b[0mmethod\u001b[0m\u001b[1;33m,\u001b[0m \u001b[0mmessage\u001b[0m\u001b[1;33m=\u001b[0m\u001b[1;34m''\u001b[0m\u001b[1;33m)\u001b[0m\u001b[1;33m:\u001b[0m\u001b[1;33m\u001b[0m\u001b[1;33m\u001b[0m\u001b[0m\n",
      "\u001b[1;31mTimeoutException\u001b[0m: Message: \nStacktrace:\nBacktrace:\n\tOrdinal0 [0x0097FDC3+2555331]\n\tOrdinal0 [0x009177F1+2127857]\n\tOrdinal0 [0x00812E08+1060360]\n\tOrdinal0 [0x0083E49E+1238174]\n\tOrdinal0 [0x0083E69B+1238683]\n\tOrdinal0 [0x00869252+1413714]\n\tOrdinal0 [0x00857B54+1342292]\n\tOrdinal0 [0x008675FA+1406458]\n\tOrdinal0 [0x00857976+1341814]\n\tOrdinal0 [0x008336B6+1193654]\n\tOrdinal0 [0x00834546+1197382]\n\tGetHandleVerifier [0x00B19622+1619522]\n\tGetHandleVerifier [0x00BC882C+2336844]\n\tGetHandleVerifier [0x00A123E1+541697]\n\tGetHandleVerifier [0x00A11443+537699]\n\tOrdinal0 [0x0091D18E+2150798]\n\tOrdinal0 [0x00921518+2168088]\n\tOrdinal0 [0x00921660+2168416]\n\tOrdinal0 [0x0092B330+2208560]\n\tBaseThreadInitThunk [0x76DC6739+25]\n\tRtlGetFullPathName_UEx [0x77B98AFF+1215]\n\tRtlGetFullPathName_UEx [0x77B98ACD+1165]\n"
     ]
    }
   ],
   "source": [
    "def get_collection_names(link):\n",
    "    driver.get(link) # get url \n",
    "    unique_items = set() ## creates empty set \n",
    "    while True:\n",
    "        # located elements on url page\n",
    "        item = WebDriverWait(driver,20).until(EC.presence_of_element_located((By.CSS_SELECTOR,\"[class$='Ranking--collection-name']\")))\n",
    "        # assigning length of scroll to H \n",
    "        H = driver.execute_script('return document.body.scrollHeight;')\n",
    "        ## beginning of scroll, increased by 300 and if h if greater than 300 it breaks \n",
    "        h = 0\n",
    "        while True :\n",
    "            h += 300\n",
    "            if h >= H :\n",
    "                break\n",
    "\n",
    "            for element in WebDriverWait(driver,10).until(EC.presence_of_all_elements_located((By.CSS_SELECTOR,\"[class$='Ranking--collection-name']\"))): ## items located on URL \n",
    "                if element.text not in unique_items:  ## this appends elements scraped from page to the set \n",
    "                    yield element.text\n",
    "                unique_items.add(element.text) ## adds to set \n",
    "            driver.execute_script(\"window.scrollTo(0, {});\".format(h)) ## this executes the scroll so it includes the entire page\n",
    "            time.sleep(1)\n",
    "\n",
    "        try:\n",
    "            button = WebDriverWait(driver,10).until(EC.presence_of_element_located((By.XPATH,\"//button[contains(@class,'Buttonreact__StyledButton')][./i[contains(.,'arrow_forward')]]\")))\n",
    "            driver.execute_script('arguments[0].click();',button)\n",
    "            WebDriverWait(driver,10).until(EC.staleness_of(item))\n",
    "        except Exception as e:\n",
    "            return\n",
    "\n",
    "\n",
    "if __name__ == '__main__':\n",
    "    driver = webdriver.Chrome(\"C:\\\\Users\\\\brend\\\\chromedriver\\\\chromedriver_win32\\\\chromedriver.exe\")\n",
    "    for item in get_collection_names(link):\n",
    "        print(item)\n",
    "    driver.quit()"
   ]
  },
  {
   "cell_type": "code",
   "execution_count": 81,
   "id": "1058a895",
   "metadata": {},
   "outputs": [
    {
     "ename": "NameError",
     "evalue": "name 'pd' is not defined",
     "output_type": "error",
     "traceback": [
      "\u001b[1;31m---------------------------------------------------------------------------\u001b[0m",
      "\u001b[1;31mNameError\u001b[0m                                 Traceback (most recent call last)",
      "\u001b[1;32m<ipython-input-81-68e586d784be>\u001b[0m in \u001b[0;36m<module>\u001b[1;34m\u001b[0m\n\u001b[1;32m----> 1\u001b[1;33m \u001b[0mhistorical_nft_data\u001b[0m \u001b[1;33m=\u001b[0m \u001b[0mpd\u001b[0m\u001b[1;33m.\u001b[0m\u001b[0mread_csv\u001b[0m\u001b[1;33m(\u001b[0m\u001b[1;34m'historical_nft_data.csv'\u001b[0m\u001b[1;33m)\u001b[0m\u001b[1;33m\u001b[0m\u001b[1;33m\u001b[0m\u001b[0m\n\u001b[0m",
      "\u001b[1;31mNameError\u001b[0m: name 'pd' is not defined"
     ]
    }
   ],
   "source": [
    "historical_nft_data = pd.read_csv('historical_nft_data.csv')"
   ]
  },
  {
   "cell_type": "code",
   "execution_count": null,
   "id": "3e1ac670",
   "metadata": {},
   "outputs": [],
   "source": []
  }
 ],
 "metadata": {
  "kernelspec": {
   "display_name": "Python 3",
   "language": "python",
   "name": "python3"
  },
  "language_info": {
   "codemirror_mode": {
    "name": "ipython",
    "version": 3
   },
   "file_extension": ".py",
   "mimetype": "text/x-python",
   "name": "python",
   "nbconvert_exporter": "python",
   "pygments_lexer": "ipython3",
   "version": "3.8.8"
  }
 },
 "nbformat": 4,
 "nbformat_minor": 5
}
